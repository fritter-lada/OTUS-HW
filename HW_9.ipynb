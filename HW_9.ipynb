{
 "cells": [
  {
   "cell_type": "markdown",
   "metadata": {},
   "source": [
    "Необходимо предсказать работоспособность насосов. Задача относится к задаче многоклассовой классификации. Данные содержат следующие признаки:\n",
    "\n",
    "- amount_tsh - Общий статический напор (количество воды, доступное для точки водоснабжения)\n",
    "- date_recorded - Дата ввода строки\n",
    "- funder - Кто финансировал скважину\n",
    "- gps_height - Высота скважины\n",
    "- installer - Организация, установившая скважину\n",
    "- longitude - Координаты GPS\n",
    "- latitude - Координаты GPS\n",
    "- wpt_name - Название точки водоснабжения, если таковая имеется\n",
    "- num_private -\n",
    "- basin - Географический водный бассейн\n",
    "- subvillage - Географическое положение\n",
    "- region - Географическое положение\n",
    "- region_code - Географическое положение (закодировано)\n",
    "- district_code - Географическое положение (закодировано)\n",
    "- lga - Географическое положение\n",
    "- ward - Географическое положение\n",
    "- population - Население вокруг скважины\n",
    "- public_meeting - Верно/Неверно\n",
    "- recorded_by - Группа, вводящая эту строку данных\n",
    "- scheme_management - Кто управляет водопунктом\n",
    "- scheme_name - Кто управляет водопунктом\n",
    "- permit - Если разрешен пункт водоснабжения\n",
    "- construction_year - Год постройки водопункта\n",
    "- extraction_type - Тип забора, который использует водозабор\n",
    "- extraction_type_group - Тип забора, который использует водозабор\n",
    "- extraction_type_class - Тип забора, который использует водозабор\n",
    "- management - Как управляется ватерпоинт\n",
    "- management_group - Как управляется ватерпоинт\n",
    "- payment - Сколько стоит вода\n",
    "- payment_type - Сколько стоит вода\n",
    "- water_quality - Качество воды\n",
    "- quality_group - Качество воды\n",
    "- quantity - Количество воды\n",
    "- quantity_group - Количество воды\n",
    "- source - Источник воды\n",
    "- source_type - Источник воды\n",
    "- source_class - Источник воды\n",
    "- waterpoint_type - Вид водяного пункта\n",
    "- waterpoint_type_group - Вид водяного пункта\n",
    "\n",
    "Для целевого признака существует три возможных значения:\n",
    "\n",
    "- functional - водопункт функционирует и не требует ремонта\n",
    "- functional needs repair - водопункт исправен, но нуждается в ремонте\n",
    "- non functional - водопункт не работает"
   ]
  },
  {
   "cell_type": "markdown",
   "metadata": {},
   "source": [
    "# 1 Загрузка данных"
   ]
  },
  {
   "cell_type": "code",
   "execution_count": 1,
   "metadata": {},
   "outputs": [],
   "source": [
    "import pandas as pd\n",
    "import numpy as np\n",
    "import matplotlib.pyplot as plt\n",
    "\n",
    "from sklearn.model_selection import train_test_split\n",
    "from sklearn.metrics import f1_score\n",
    "from catboost import CatBoostClassifier\n",
    "from sklearn.feature_selection import mutual_info_classif\n",
    "from sklearn.utils.class_weight import compute_class_weight"
   ]
  },
  {
   "cell_type": "code",
   "execution_count": 2,
   "metadata": {},
   "outputs": [],
   "source": [
    "features = pd.read_csv('features.csv', index_col=0)"
   ]
  },
  {
   "cell_type": "code",
   "execution_count": 3,
   "metadata": {},
   "outputs": [
    {
     "data": {
      "text/html": [
       "<div>\n",
       "<style scoped>\n",
       "    .dataframe tbody tr th:only-of-type {\n",
       "        vertical-align: middle;\n",
       "    }\n",
       "\n",
       "    .dataframe tbody tr th {\n",
       "        vertical-align: top;\n",
       "    }\n",
       "\n",
       "    .dataframe thead th {\n",
       "        text-align: right;\n",
       "    }\n",
       "</style>\n",
       "<table border=\"1\" class=\"dataframe\">\n",
       "  <thead>\n",
       "    <tr style=\"text-align: right;\">\n",
       "      <th></th>\n",
       "      <th>amount_tsh</th>\n",
       "      <th>date_recorded</th>\n",
       "      <th>funder</th>\n",
       "      <th>gps_height</th>\n",
       "      <th>installer</th>\n",
       "      <th>longitude</th>\n",
       "      <th>latitude</th>\n",
       "      <th>wpt_name</th>\n",
       "      <th>num_private</th>\n",
       "      <th>basin</th>\n",
       "      <th>...</th>\n",
       "      <th>payment_type</th>\n",
       "      <th>water_quality</th>\n",
       "      <th>quality_group</th>\n",
       "      <th>quantity</th>\n",
       "      <th>quantity_group</th>\n",
       "      <th>source</th>\n",
       "      <th>source_type</th>\n",
       "      <th>source_class</th>\n",
       "      <th>waterpoint_type</th>\n",
       "      <th>waterpoint_type_group</th>\n",
       "    </tr>\n",
       "    <tr>\n",
       "      <th>id</th>\n",
       "      <th></th>\n",
       "      <th></th>\n",
       "      <th></th>\n",
       "      <th></th>\n",
       "      <th></th>\n",
       "      <th></th>\n",
       "      <th></th>\n",
       "      <th></th>\n",
       "      <th></th>\n",
       "      <th></th>\n",
       "      <th></th>\n",
       "      <th></th>\n",
       "      <th></th>\n",
       "      <th></th>\n",
       "      <th></th>\n",
       "      <th></th>\n",
       "      <th></th>\n",
       "      <th></th>\n",
       "      <th></th>\n",
       "      <th></th>\n",
       "      <th></th>\n",
       "    </tr>\n",
       "  </thead>\n",
       "  <tbody>\n",
       "    <tr>\n",
       "      <th>69572</th>\n",
       "      <td>6000.0</td>\n",
       "      <td>2011-03-14</td>\n",
       "      <td>Roman</td>\n",
       "      <td>1390</td>\n",
       "      <td>Roman</td>\n",
       "      <td>34.938093</td>\n",
       "      <td>-9.856322</td>\n",
       "      <td>none</td>\n",
       "      <td>0</td>\n",
       "      <td>Lake Nyasa</td>\n",
       "      <td>...</td>\n",
       "      <td>annually</td>\n",
       "      <td>soft</td>\n",
       "      <td>good</td>\n",
       "      <td>enough</td>\n",
       "      <td>enough</td>\n",
       "      <td>spring</td>\n",
       "      <td>spring</td>\n",
       "      <td>groundwater</td>\n",
       "      <td>communal standpipe</td>\n",
       "      <td>communal standpipe</td>\n",
       "    </tr>\n",
       "    <tr>\n",
       "      <th>8776</th>\n",
       "      <td>0.0</td>\n",
       "      <td>2013-03-06</td>\n",
       "      <td>Grumeti</td>\n",
       "      <td>1399</td>\n",
       "      <td>GRUMETI</td>\n",
       "      <td>34.698766</td>\n",
       "      <td>-2.147466</td>\n",
       "      <td>Zahanati</td>\n",
       "      <td>0</td>\n",
       "      <td>Lake Victoria</td>\n",
       "      <td>...</td>\n",
       "      <td>never pay</td>\n",
       "      <td>soft</td>\n",
       "      <td>good</td>\n",
       "      <td>insufficient</td>\n",
       "      <td>insufficient</td>\n",
       "      <td>rainwater harvesting</td>\n",
       "      <td>rainwater harvesting</td>\n",
       "      <td>surface</td>\n",
       "      <td>communal standpipe</td>\n",
       "      <td>communal standpipe</td>\n",
       "    </tr>\n",
       "    <tr>\n",
       "      <th>34310</th>\n",
       "      <td>25.0</td>\n",
       "      <td>2013-02-25</td>\n",
       "      <td>Lottery Club</td>\n",
       "      <td>686</td>\n",
       "      <td>World vision</td>\n",
       "      <td>37.460664</td>\n",
       "      <td>-3.821329</td>\n",
       "      <td>Kwa Mahundi</td>\n",
       "      <td>0</td>\n",
       "      <td>Pangani</td>\n",
       "      <td>...</td>\n",
       "      <td>per bucket</td>\n",
       "      <td>soft</td>\n",
       "      <td>good</td>\n",
       "      <td>enough</td>\n",
       "      <td>enough</td>\n",
       "      <td>dam</td>\n",
       "      <td>dam</td>\n",
       "      <td>surface</td>\n",
       "      <td>communal standpipe multiple</td>\n",
       "      <td>communal standpipe</td>\n",
       "    </tr>\n",
       "    <tr>\n",
       "      <th>67743</th>\n",
       "      <td>0.0</td>\n",
       "      <td>2013-01-28</td>\n",
       "      <td>Unicef</td>\n",
       "      <td>263</td>\n",
       "      <td>UNICEF</td>\n",
       "      <td>38.486161</td>\n",
       "      <td>-11.155298</td>\n",
       "      <td>Zahanati Ya Nanyumbu</td>\n",
       "      <td>0</td>\n",
       "      <td>Ruvuma / Southern Coast</td>\n",
       "      <td>...</td>\n",
       "      <td>never pay</td>\n",
       "      <td>soft</td>\n",
       "      <td>good</td>\n",
       "      <td>dry</td>\n",
       "      <td>dry</td>\n",
       "      <td>machine dbh</td>\n",
       "      <td>borehole</td>\n",
       "      <td>groundwater</td>\n",
       "      <td>communal standpipe multiple</td>\n",
       "      <td>communal standpipe</td>\n",
       "    </tr>\n",
       "    <tr>\n",
       "      <th>19728</th>\n",
       "      <td>0.0</td>\n",
       "      <td>2011-07-13</td>\n",
       "      <td>Action In A</td>\n",
       "      <td>0</td>\n",
       "      <td>Artisan</td>\n",
       "      <td>31.130847</td>\n",
       "      <td>-1.825359</td>\n",
       "      <td>Shuleni</td>\n",
       "      <td>0</td>\n",
       "      <td>Lake Victoria</td>\n",
       "      <td>...</td>\n",
       "      <td>never pay</td>\n",
       "      <td>soft</td>\n",
       "      <td>good</td>\n",
       "      <td>seasonal</td>\n",
       "      <td>seasonal</td>\n",
       "      <td>rainwater harvesting</td>\n",
       "      <td>rainwater harvesting</td>\n",
       "      <td>surface</td>\n",
       "      <td>communal standpipe</td>\n",
       "      <td>communal standpipe</td>\n",
       "    </tr>\n",
       "    <tr>\n",
       "      <th>...</th>\n",
       "      <td>...</td>\n",
       "      <td>...</td>\n",
       "      <td>...</td>\n",
       "      <td>...</td>\n",
       "      <td>...</td>\n",
       "      <td>...</td>\n",
       "      <td>...</td>\n",
       "      <td>...</td>\n",
       "      <td>...</td>\n",
       "      <td>...</td>\n",
       "      <td>...</td>\n",
       "      <td>...</td>\n",
       "      <td>...</td>\n",
       "      <td>...</td>\n",
       "      <td>...</td>\n",
       "      <td>...</td>\n",
       "      <td>...</td>\n",
       "      <td>...</td>\n",
       "      <td>...</td>\n",
       "      <td>...</td>\n",
       "      <td>...</td>\n",
       "    </tr>\n",
       "    <tr>\n",
       "      <th>60739</th>\n",
       "      <td>10.0</td>\n",
       "      <td>2013-05-03</td>\n",
       "      <td>Germany Republi</td>\n",
       "      <td>1210</td>\n",
       "      <td>CES</td>\n",
       "      <td>37.169807</td>\n",
       "      <td>-3.253847</td>\n",
       "      <td>Area Three Namba 27</td>\n",
       "      <td>0</td>\n",
       "      <td>Pangani</td>\n",
       "      <td>...</td>\n",
       "      <td>per bucket</td>\n",
       "      <td>soft</td>\n",
       "      <td>good</td>\n",
       "      <td>enough</td>\n",
       "      <td>enough</td>\n",
       "      <td>spring</td>\n",
       "      <td>spring</td>\n",
       "      <td>groundwater</td>\n",
       "      <td>communal standpipe</td>\n",
       "      <td>communal standpipe</td>\n",
       "    </tr>\n",
       "    <tr>\n",
       "      <th>27263</th>\n",
       "      <td>4700.0</td>\n",
       "      <td>2011-05-07</td>\n",
       "      <td>Cefa-njombe</td>\n",
       "      <td>1212</td>\n",
       "      <td>Cefa</td>\n",
       "      <td>35.249991</td>\n",
       "      <td>-9.070629</td>\n",
       "      <td>Kwa Yahona Kuvala</td>\n",
       "      <td>0</td>\n",
       "      <td>Rufiji</td>\n",
       "      <td>...</td>\n",
       "      <td>annually</td>\n",
       "      <td>soft</td>\n",
       "      <td>good</td>\n",
       "      <td>enough</td>\n",
       "      <td>enough</td>\n",
       "      <td>river</td>\n",
       "      <td>river/lake</td>\n",
       "      <td>surface</td>\n",
       "      <td>communal standpipe</td>\n",
       "      <td>communal standpipe</td>\n",
       "    </tr>\n",
       "    <tr>\n",
       "      <th>37057</th>\n",
       "      <td>0.0</td>\n",
       "      <td>2011-04-11</td>\n",
       "      <td>NaN</td>\n",
       "      <td>0</td>\n",
       "      <td>NaN</td>\n",
       "      <td>34.017087</td>\n",
       "      <td>-8.750434</td>\n",
       "      <td>Mashine</td>\n",
       "      <td>0</td>\n",
       "      <td>Rufiji</td>\n",
       "      <td>...</td>\n",
       "      <td>monthly</td>\n",
       "      <td>fluoride</td>\n",
       "      <td>fluoride</td>\n",
       "      <td>enough</td>\n",
       "      <td>enough</td>\n",
       "      <td>machine dbh</td>\n",
       "      <td>borehole</td>\n",
       "      <td>groundwater</td>\n",
       "      <td>hand pump</td>\n",
       "      <td>hand pump</td>\n",
       "    </tr>\n",
       "    <tr>\n",
       "      <th>31282</th>\n",
       "      <td>0.0</td>\n",
       "      <td>2011-03-08</td>\n",
       "      <td>Malec</td>\n",
       "      <td>0</td>\n",
       "      <td>Musa</td>\n",
       "      <td>35.861315</td>\n",
       "      <td>-6.378573</td>\n",
       "      <td>Mshoro</td>\n",
       "      <td>0</td>\n",
       "      <td>Rufiji</td>\n",
       "      <td>...</td>\n",
       "      <td>never pay</td>\n",
       "      <td>soft</td>\n",
       "      <td>good</td>\n",
       "      <td>insufficient</td>\n",
       "      <td>insufficient</td>\n",
       "      <td>shallow well</td>\n",
       "      <td>shallow well</td>\n",
       "      <td>groundwater</td>\n",
       "      <td>hand pump</td>\n",
       "      <td>hand pump</td>\n",
       "    </tr>\n",
       "    <tr>\n",
       "      <th>26348</th>\n",
       "      <td>0.0</td>\n",
       "      <td>2011-03-23</td>\n",
       "      <td>World Bank</td>\n",
       "      <td>191</td>\n",
       "      <td>World</td>\n",
       "      <td>38.104048</td>\n",
       "      <td>-6.747464</td>\n",
       "      <td>Kwa Mzee Lugawa</td>\n",
       "      <td>0</td>\n",
       "      <td>Wami / Ruvu</td>\n",
       "      <td>...</td>\n",
       "      <td>on failure</td>\n",
       "      <td>salty</td>\n",
       "      <td>salty</td>\n",
       "      <td>enough</td>\n",
       "      <td>enough</td>\n",
       "      <td>shallow well</td>\n",
       "      <td>shallow well</td>\n",
       "      <td>groundwater</td>\n",
       "      <td>hand pump</td>\n",
       "      <td>hand pump</td>\n",
       "    </tr>\n",
       "  </tbody>\n",
       "</table>\n",
       "<p>59400 rows × 39 columns</p>\n",
       "</div>"
      ],
      "text/plain": [
       "       amount_tsh date_recorded           funder  gps_height     installer  \\\n",
       "id                                                                           \n",
       "69572      6000.0    2011-03-14            Roman        1390         Roman   \n",
       "8776          0.0    2013-03-06          Grumeti        1399       GRUMETI   \n",
       "34310        25.0    2013-02-25     Lottery Club         686  World vision   \n",
       "67743         0.0    2013-01-28           Unicef         263        UNICEF   \n",
       "19728         0.0    2011-07-13      Action In A           0       Artisan   \n",
       "...           ...           ...              ...         ...           ...   \n",
       "60739        10.0    2013-05-03  Germany Republi        1210           CES   \n",
       "27263      4700.0    2011-05-07      Cefa-njombe        1212          Cefa   \n",
       "37057         0.0    2011-04-11              NaN           0           NaN   \n",
       "31282         0.0    2011-03-08            Malec           0          Musa   \n",
       "26348         0.0    2011-03-23       World Bank         191         World   \n",
       "\n",
       "       longitude   latitude              wpt_name  num_private  \\\n",
       "id                                                               \n",
       "69572  34.938093  -9.856322                  none            0   \n",
       "8776   34.698766  -2.147466              Zahanati            0   \n",
       "34310  37.460664  -3.821329           Kwa Mahundi            0   \n",
       "67743  38.486161 -11.155298  Zahanati Ya Nanyumbu            0   \n",
       "19728  31.130847  -1.825359               Shuleni            0   \n",
       "...          ...        ...                   ...          ...   \n",
       "60739  37.169807  -3.253847   Area Three Namba 27            0   \n",
       "27263  35.249991  -9.070629     Kwa Yahona Kuvala            0   \n",
       "37057  34.017087  -8.750434               Mashine            0   \n",
       "31282  35.861315  -6.378573                Mshoro            0   \n",
       "26348  38.104048  -6.747464       Kwa Mzee Lugawa            0   \n",
       "\n",
       "                         basin  ... payment_type water_quality  quality_group  \\\n",
       "id                              ...                                             \n",
       "69572               Lake Nyasa  ...     annually          soft           good   \n",
       "8776             Lake Victoria  ...    never pay          soft           good   \n",
       "34310                  Pangani  ...   per bucket          soft           good   \n",
       "67743  Ruvuma / Southern Coast  ...    never pay          soft           good   \n",
       "19728            Lake Victoria  ...    never pay          soft           good   \n",
       "...                        ...  ...          ...           ...            ...   \n",
       "60739                  Pangani  ...   per bucket          soft           good   \n",
       "27263                   Rufiji  ...     annually          soft           good   \n",
       "37057                   Rufiji  ...      monthly      fluoride       fluoride   \n",
       "31282                   Rufiji  ...    never pay          soft           good   \n",
       "26348              Wami / Ruvu  ...   on failure         salty          salty   \n",
       "\n",
       "           quantity quantity_group                source  \\\n",
       "id                                                         \n",
       "69572        enough         enough                spring   \n",
       "8776   insufficient   insufficient  rainwater harvesting   \n",
       "34310        enough         enough                   dam   \n",
       "67743           dry            dry           machine dbh   \n",
       "19728      seasonal       seasonal  rainwater harvesting   \n",
       "...             ...            ...                   ...   \n",
       "60739        enough         enough                spring   \n",
       "27263        enough         enough                 river   \n",
       "37057        enough         enough           machine dbh   \n",
       "31282  insufficient   insufficient          shallow well   \n",
       "26348        enough         enough          shallow well   \n",
       "\n",
       "                source_type source_class              waterpoint_type  \\\n",
       "id                                                                      \n",
       "69572                spring  groundwater           communal standpipe   \n",
       "8776   rainwater harvesting      surface           communal standpipe   \n",
       "34310                   dam      surface  communal standpipe multiple   \n",
       "67743              borehole  groundwater  communal standpipe multiple   \n",
       "19728  rainwater harvesting      surface           communal standpipe   \n",
       "...                     ...          ...                          ...   \n",
       "60739                spring  groundwater           communal standpipe   \n",
       "27263            river/lake      surface           communal standpipe   \n",
       "37057              borehole  groundwater                    hand pump   \n",
       "31282          shallow well  groundwater                    hand pump   \n",
       "26348          shallow well  groundwater                    hand pump   \n",
       "\n",
       "      waterpoint_type_group  \n",
       "id                           \n",
       "69572    communal standpipe  \n",
       "8776     communal standpipe  \n",
       "34310    communal standpipe  \n",
       "67743    communal standpipe  \n",
       "19728    communal standpipe  \n",
       "...                     ...  \n",
       "60739    communal standpipe  \n",
       "27263    communal standpipe  \n",
       "37057             hand pump  \n",
       "31282             hand pump  \n",
       "26348             hand pump  \n",
       "\n",
       "[59400 rows x 39 columns]"
      ]
     },
     "execution_count": 3,
     "metadata": {},
     "output_type": "execute_result"
    }
   ],
   "source": [
    "features"
   ]
  },
  {
   "cell_type": "code",
   "execution_count": 4,
   "metadata": {},
   "outputs": [],
   "source": [
    "target = pd.read_csv('target.csv', index_col=0)"
   ]
  },
  {
   "cell_type": "code",
   "execution_count": 5,
   "metadata": {},
   "outputs": [
    {
     "data": {
      "text/html": [
       "<div>\n",
       "<style scoped>\n",
       "    .dataframe tbody tr th:only-of-type {\n",
       "        vertical-align: middle;\n",
       "    }\n",
       "\n",
       "    .dataframe tbody tr th {\n",
       "        vertical-align: top;\n",
       "    }\n",
       "\n",
       "    .dataframe thead th {\n",
       "        text-align: right;\n",
       "    }\n",
       "</style>\n",
       "<table border=\"1\" class=\"dataframe\">\n",
       "  <thead>\n",
       "    <tr style=\"text-align: right;\">\n",
       "      <th></th>\n",
       "      <th>status_group</th>\n",
       "    </tr>\n",
       "    <tr>\n",
       "      <th>id</th>\n",
       "      <th></th>\n",
       "    </tr>\n",
       "  </thead>\n",
       "  <tbody>\n",
       "    <tr>\n",
       "      <th>69572</th>\n",
       "      <td>functional</td>\n",
       "    </tr>\n",
       "    <tr>\n",
       "      <th>8776</th>\n",
       "      <td>functional</td>\n",
       "    </tr>\n",
       "    <tr>\n",
       "      <th>34310</th>\n",
       "      <td>functional</td>\n",
       "    </tr>\n",
       "    <tr>\n",
       "      <th>67743</th>\n",
       "      <td>non functional</td>\n",
       "    </tr>\n",
       "    <tr>\n",
       "      <th>19728</th>\n",
       "      <td>functional</td>\n",
       "    </tr>\n",
       "    <tr>\n",
       "      <th>...</th>\n",
       "      <td>...</td>\n",
       "    </tr>\n",
       "    <tr>\n",
       "      <th>60739</th>\n",
       "      <td>functional</td>\n",
       "    </tr>\n",
       "    <tr>\n",
       "      <th>27263</th>\n",
       "      <td>functional</td>\n",
       "    </tr>\n",
       "    <tr>\n",
       "      <th>37057</th>\n",
       "      <td>functional</td>\n",
       "    </tr>\n",
       "    <tr>\n",
       "      <th>31282</th>\n",
       "      <td>functional</td>\n",
       "    </tr>\n",
       "    <tr>\n",
       "      <th>26348</th>\n",
       "      <td>functional</td>\n",
       "    </tr>\n",
       "  </tbody>\n",
       "</table>\n",
       "<p>59400 rows × 1 columns</p>\n",
       "</div>"
      ],
      "text/plain": [
       "         status_group\n",
       "id                   \n",
       "69572      functional\n",
       "8776       functional\n",
       "34310      functional\n",
       "67743  non functional\n",
       "19728      functional\n",
       "...               ...\n",
       "60739      functional\n",
       "27263      functional\n",
       "37057      functional\n",
       "31282      functional\n",
       "26348      functional\n",
       "\n",
       "[59400 rows x 1 columns]"
      ]
     },
     "execution_count": 5,
     "metadata": {},
     "output_type": "execute_result"
    }
   ],
   "source": [
    "target"
   ]
  },
  {
   "cell_type": "markdown",
   "metadata": {},
   "source": [
    "# 2 EDA"
   ]
  },
  {
   "cell_type": "code",
   "execution_count": 6,
   "metadata": {},
   "outputs": [
    {
     "name": "stdout",
     "output_type": "stream",
     "text": [
      "<class 'pandas.core.frame.DataFrame'>\n",
      "Index: 59400 entries, 69572 to 26348\n",
      "Data columns (total 39 columns):\n",
      " #   Column                 Non-Null Count  Dtype  \n",
      "---  ------                 --------------  -----  \n",
      " 0   amount_tsh             59400 non-null  float64\n",
      " 1   date_recorded          59400 non-null  object \n",
      " 2   funder                 55763 non-null  object \n",
      " 3   gps_height             59400 non-null  int64  \n",
      " 4   installer              55745 non-null  object \n",
      " 5   longitude              59400 non-null  float64\n",
      " 6   latitude               59400 non-null  float64\n",
      " 7   wpt_name               59398 non-null  object \n",
      " 8   num_private            59400 non-null  int64  \n",
      " 9   basin                  59400 non-null  object \n",
      " 10  subvillage             59029 non-null  object \n",
      " 11  region                 59400 non-null  object \n",
      " 12  region_code            59400 non-null  int64  \n",
      " 13  district_code          59400 non-null  int64  \n",
      " 14  lga                    59400 non-null  object \n",
      " 15  ward                   59400 non-null  object \n",
      " 16  population             59400 non-null  int64  \n",
      " 17  public_meeting         56066 non-null  object \n",
      " 18  recorded_by            59400 non-null  object \n",
      " 19  scheme_management      55522 non-null  object \n",
      " 20  scheme_name            30590 non-null  object \n",
      " 21  permit                 56344 non-null  object \n",
      " 22  construction_year      59400 non-null  int64  \n",
      " 23  extraction_type        59400 non-null  object \n",
      " 24  extraction_type_group  59400 non-null  object \n",
      " 25  extraction_type_class  59400 non-null  object \n",
      " 26  management             59400 non-null  object \n",
      " 27  management_group       59400 non-null  object \n",
      " 28  payment                59400 non-null  object \n",
      " 29  payment_type           59400 non-null  object \n",
      " 30  water_quality          59400 non-null  object \n",
      " 31  quality_group          59400 non-null  object \n",
      " 32  quantity               59400 non-null  object \n",
      " 33  quantity_group         59400 non-null  object \n",
      " 34  source                 59400 non-null  object \n",
      " 35  source_type            59400 non-null  object \n",
      " 36  source_class           59400 non-null  object \n",
      " 37  waterpoint_type        59400 non-null  object \n",
      " 38  waterpoint_type_group  59400 non-null  object \n",
      "dtypes: float64(3), int64(6), object(30)\n",
      "memory usage: 18.1+ MB\n"
     ]
    }
   ],
   "source": [
    "features.info()"
   ]
  },
  {
   "cell_type": "code",
   "execution_count": 7,
   "metadata": {},
   "outputs": [
    {
     "data": {
      "text/html": [
       "<div>\n",
       "<style scoped>\n",
       "    .dataframe tbody tr th:only-of-type {\n",
       "        vertical-align: middle;\n",
       "    }\n",
       "\n",
       "    .dataframe tbody tr th {\n",
       "        vertical-align: top;\n",
       "    }\n",
       "\n",
       "    .dataframe thead th {\n",
       "        text-align: right;\n",
       "    }\n",
       "</style>\n",
       "<table border=\"1\" class=\"dataframe\">\n",
       "  <thead>\n",
       "    <tr style=\"text-align: right;\">\n",
       "      <th></th>\n",
       "      <th>amount_tsh</th>\n",
       "      <th>gps_height</th>\n",
       "      <th>longitude</th>\n",
       "      <th>latitude</th>\n",
       "      <th>num_private</th>\n",
       "      <th>region_code</th>\n",
       "      <th>district_code</th>\n",
       "      <th>population</th>\n",
       "      <th>construction_year</th>\n",
       "    </tr>\n",
       "  </thead>\n",
       "  <tbody>\n",
       "    <tr>\n",
       "      <th>count</th>\n",
       "      <td>59400.000000</td>\n",
       "      <td>59400.000000</td>\n",
       "      <td>59400.000000</td>\n",
       "      <td>5.940000e+04</td>\n",
       "      <td>59400.000000</td>\n",
       "      <td>59400.000000</td>\n",
       "      <td>59400.000000</td>\n",
       "      <td>59400.000000</td>\n",
       "      <td>59400.000000</td>\n",
       "    </tr>\n",
       "    <tr>\n",
       "      <th>mean</th>\n",
       "      <td>317.650385</td>\n",
       "      <td>668.297239</td>\n",
       "      <td>34.077427</td>\n",
       "      <td>-5.706033e+00</td>\n",
       "      <td>0.474141</td>\n",
       "      <td>15.297003</td>\n",
       "      <td>5.629747</td>\n",
       "      <td>179.909983</td>\n",
       "      <td>1300.652475</td>\n",
       "    </tr>\n",
       "    <tr>\n",
       "      <th>std</th>\n",
       "      <td>2997.574558</td>\n",
       "      <td>693.116350</td>\n",
       "      <td>6.567432</td>\n",
       "      <td>2.946019e+00</td>\n",
       "      <td>12.236230</td>\n",
       "      <td>17.587406</td>\n",
       "      <td>9.633649</td>\n",
       "      <td>471.482176</td>\n",
       "      <td>951.620547</td>\n",
       "    </tr>\n",
       "    <tr>\n",
       "      <th>min</th>\n",
       "      <td>0.000000</td>\n",
       "      <td>-90.000000</td>\n",
       "      <td>0.000000</td>\n",
       "      <td>-1.164944e+01</td>\n",
       "      <td>0.000000</td>\n",
       "      <td>1.000000</td>\n",
       "      <td>0.000000</td>\n",
       "      <td>0.000000</td>\n",
       "      <td>0.000000</td>\n",
       "    </tr>\n",
       "    <tr>\n",
       "      <th>25%</th>\n",
       "      <td>0.000000</td>\n",
       "      <td>0.000000</td>\n",
       "      <td>33.090347</td>\n",
       "      <td>-8.540621e+00</td>\n",
       "      <td>0.000000</td>\n",
       "      <td>5.000000</td>\n",
       "      <td>2.000000</td>\n",
       "      <td>0.000000</td>\n",
       "      <td>0.000000</td>\n",
       "    </tr>\n",
       "    <tr>\n",
       "      <th>50%</th>\n",
       "      <td>0.000000</td>\n",
       "      <td>369.000000</td>\n",
       "      <td>34.908743</td>\n",
       "      <td>-5.021597e+00</td>\n",
       "      <td>0.000000</td>\n",
       "      <td>12.000000</td>\n",
       "      <td>3.000000</td>\n",
       "      <td>25.000000</td>\n",
       "      <td>1986.000000</td>\n",
       "    </tr>\n",
       "    <tr>\n",
       "      <th>75%</th>\n",
       "      <td>20.000000</td>\n",
       "      <td>1319.250000</td>\n",
       "      <td>37.178387</td>\n",
       "      <td>-3.326156e+00</td>\n",
       "      <td>0.000000</td>\n",
       "      <td>17.000000</td>\n",
       "      <td>5.000000</td>\n",
       "      <td>215.000000</td>\n",
       "      <td>2004.000000</td>\n",
       "    </tr>\n",
       "    <tr>\n",
       "      <th>max</th>\n",
       "      <td>350000.000000</td>\n",
       "      <td>2770.000000</td>\n",
       "      <td>40.345193</td>\n",
       "      <td>-2.000000e-08</td>\n",
       "      <td>1776.000000</td>\n",
       "      <td>99.000000</td>\n",
       "      <td>80.000000</td>\n",
       "      <td>30500.000000</td>\n",
       "      <td>2013.000000</td>\n",
       "    </tr>\n",
       "  </tbody>\n",
       "</table>\n",
       "</div>"
      ],
      "text/plain": [
       "          amount_tsh    gps_height     longitude      latitude   num_private  \\\n",
       "count   59400.000000  59400.000000  59400.000000  5.940000e+04  59400.000000   \n",
       "mean      317.650385    668.297239     34.077427 -5.706033e+00      0.474141   \n",
       "std      2997.574558    693.116350      6.567432  2.946019e+00     12.236230   \n",
       "min         0.000000    -90.000000      0.000000 -1.164944e+01      0.000000   \n",
       "25%         0.000000      0.000000     33.090347 -8.540621e+00      0.000000   \n",
       "50%         0.000000    369.000000     34.908743 -5.021597e+00      0.000000   \n",
       "75%        20.000000   1319.250000     37.178387 -3.326156e+00      0.000000   \n",
       "max    350000.000000   2770.000000     40.345193 -2.000000e-08   1776.000000   \n",
       "\n",
       "        region_code  district_code    population  construction_year  \n",
       "count  59400.000000   59400.000000  59400.000000       59400.000000  \n",
       "mean      15.297003       5.629747    179.909983        1300.652475  \n",
       "std       17.587406       9.633649    471.482176         951.620547  \n",
       "min        1.000000       0.000000      0.000000           0.000000  \n",
       "25%        5.000000       2.000000      0.000000           0.000000  \n",
       "50%       12.000000       3.000000     25.000000        1986.000000  \n",
       "75%       17.000000       5.000000    215.000000        2004.000000  \n",
       "max       99.000000      80.000000  30500.000000        2013.000000  "
      ]
     },
     "execution_count": 7,
     "metadata": {},
     "output_type": "execute_result"
    }
   ],
   "source": [
    "features.describe()"
   ]
  },
  {
   "cell_type": "code",
   "execution_count": 8,
   "metadata": {},
   "outputs": [
    {
     "data": {
      "text/plain": [
       "scheme_name          28810\n",
       "scheme_management     3878\n",
       "installer             3655\n",
       "funder                3637\n",
       "public_meeting        3334\n",
       "permit                3056\n",
       "subvillage             371\n",
       "wpt_name                 2\n",
       "dtype: int64"
      ]
     },
     "execution_count": 8,
     "metadata": {},
     "output_type": "execute_result"
    }
   ],
   "source": [
    "features.isna().sum().sort_values(ascending=False).head(8)"
   ]
  },
  {
   "cell_type": "markdown",
   "metadata": {},
   "source": [
    "В некоторых столбцах есть пропуски. Столбцы с пропусками:"
   ]
  },
  {
   "cell_type": "code",
   "execution_count": 9,
   "metadata": {},
   "outputs": [
    {
     "data": {
      "text/html": [
       "<div>\n",
       "<style scoped>\n",
       "    .dataframe tbody tr th:only-of-type {\n",
       "        vertical-align: middle;\n",
       "    }\n",
       "\n",
       "    .dataframe tbody tr th {\n",
       "        vertical-align: top;\n",
       "    }\n",
       "\n",
       "    .dataframe thead th {\n",
       "        text-align: right;\n",
       "    }\n",
       "</style>\n",
       "<table border=\"1\" class=\"dataframe\">\n",
       "  <thead>\n",
       "    <tr style=\"text-align: right;\">\n",
       "      <th></th>\n",
       "      <th>scheme_name</th>\n",
       "      <th>scheme_management</th>\n",
       "      <th>installer</th>\n",
       "      <th>funder</th>\n",
       "      <th>public_meeting</th>\n",
       "      <th>permit</th>\n",
       "      <th>subvillage</th>\n",
       "      <th>wpt_name</th>\n",
       "    </tr>\n",
       "    <tr>\n",
       "      <th>id</th>\n",
       "      <th></th>\n",
       "      <th></th>\n",
       "      <th></th>\n",
       "      <th></th>\n",
       "      <th></th>\n",
       "      <th></th>\n",
       "      <th></th>\n",
       "      <th></th>\n",
       "    </tr>\n",
       "  </thead>\n",
       "  <tbody>\n",
       "    <tr>\n",
       "      <th>69572</th>\n",
       "      <td>Roman</td>\n",
       "      <td>VWC</td>\n",
       "      <td>Roman</td>\n",
       "      <td>Roman</td>\n",
       "      <td>True</td>\n",
       "      <td>False</td>\n",
       "      <td>Mnyusi B</td>\n",
       "      <td>none</td>\n",
       "    </tr>\n",
       "    <tr>\n",
       "      <th>8776</th>\n",
       "      <td>NaN</td>\n",
       "      <td>Other</td>\n",
       "      <td>GRUMETI</td>\n",
       "      <td>Grumeti</td>\n",
       "      <td>NaN</td>\n",
       "      <td>True</td>\n",
       "      <td>Nyamara</td>\n",
       "      <td>Zahanati</td>\n",
       "    </tr>\n",
       "    <tr>\n",
       "      <th>34310</th>\n",
       "      <td>Nyumba ya mungu pipe scheme</td>\n",
       "      <td>VWC</td>\n",
       "      <td>World vision</td>\n",
       "      <td>Lottery Club</td>\n",
       "      <td>True</td>\n",
       "      <td>True</td>\n",
       "      <td>Majengo</td>\n",
       "      <td>Kwa Mahundi</td>\n",
       "    </tr>\n",
       "    <tr>\n",
       "      <th>67743</th>\n",
       "      <td>NaN</td>\n",
       "      <td>VWC</td>\n",
       "      <td>UNICEF</td>\n",
       "      <td>Unicef</td>\n",
       "      <td>True</td>\n",
       "      <td>True</td>\n",
       "      <td>Mahakamani</td>\n",
       "      <td>Zahanati Ya Nanyumbu</td>\n",
       "    </tr>\n",
       "    <tr>\n",
       "      <th>19728</th>\n",
       "      <td>NaN</td>\n",
       "      <td>NaN</td>\n",
       "      <td>Artisan</td>\n",
       "      <td>Action In A</td>\n",
       "      <td>True</td>\n",
       "      <td>True</td>\n",
       "      <td>Kyanyamisa</td>\n",
       "      <td>Shuleni</td>\n",
       "    </tr>\n",
       "    <tr>\n",
       "      <th>...</th>\n",
       "      <td>...</td>\n",
       "      <td>...</td>\n",
       "      <td>...</td>\n",
       "      <td>...</td>\n",
       "      <td>...</td>\n",
       "      <td>...</td>\n",
       "      <td>...</td>\n",
       "      <td>...</td>\n",
       "    </tr>\n",
       "    <tr>\n",
       "      <th>60739</th>\n",
       "      <td>Losaa Kia water supply</td>\n",
       "      <td>Water Board</td>\n",
       "      <td>CES</td>\n",
       "      <td>Germany Republi</td>\n",
       "      <td>True</td>\n",
       "      <td>True</td>\n",
       "      <td>Kiduruni</td>\n",
       "      <td>Area Three Namba 27</td>\n",
       "    </tr>\n",
       "    <tr>\n",
       "      <th>27263</th>\n",
       "      <td>Ikondo electrical water sch</td>\n",
       "      <td>VWC</td>\n",
       "      <td>Cefa</td>\n",
       "      <td>Cefa-njombe</td>\n",
       "      <td>True</td>\n",
       "      <td>True</td>\n",
       "      <td>Igumbilo</td>\n",
       "      <td>Kwa Yahona Kuvala</td>\n",
       "    </tr>\n",
       "    <tr>\n",
       "      <th>37057</th>\n",
       "      <td>NaN</td>\n",
       "      <td>VWC</td>\n",
       "      <td>NaN</td>\n",
       "      <td>NaN</td>\n",
       "      <td>True</td>\n",
       "      <td>False</td>\n",
       "      <td>Madungulu</td>\n",
       "      <td>Mashine</td>\n",
       "    </tr>\n",
       "    <tr>\n",
       "      <th>31282</th>\n",
       "      <td>NaN</td>\n",
       "      <td>VWC</td>\n",
       "      <td>Musa</td>\n",
       "      <td>Malec</td>\n",
       "      <td>True</td>\n",
       "      <td>True</td>\n",
       "      <td>Mwinyi</td>\n",
       "      <td>Mshoro</td>\n",
       "    </tr>\n",
       "    <tr>\n",
       "      <th>26348</th>\n",
       "      <td>NaN</td>\n",
       "      <td>VWC</td>\n",
       "      <td>World</td>\n",
       "      <td>World Bank</td>\n",
       "      <td>True</td>\n",
       "      <td>True</td>\n",
       "      <td>Kikatanyemba</td>\n",
       "      <td>Kwa Mzee Lugawa</td>\n",
       "    </tr>\n",
       "  </tbody>\n",
       "</table>\n",
       "<p>59400 rows × 8 columns</p>\n",
       "</div>"
      ],
      "text/plain": [
       "                       scheme_name scheme_management     installer  \\\n",
       "id                                                                   \n",
       "69572                        Roman               VWC         Roman   \n",
       "8776                           NaN             Other       GRUMETI   \n",
       "34310  Nyumba ya mungu pipe scheme               VWC  World vision   \n",
       "67743                          NaN               VWC        UNICEF   \n",
       "19728                          NaN               NaN       Artisan   \n",
       "...                            ...               ...           ...   \n",
       "60739       Losaa Kia water supply       Water Board           CES   \n",
       "27263  Ikondo electrical water sch               VWC          Cefa   \n",
       "37057                          NaN               VWC           NaN   \n",
       "31282                          NaN               VWC          Musa   \n",
       "26348                          NaN               VWC         World   \n",
       "\n",
       "                funder public_meeting permit    subvillage  \\\n",
       "id                                                           \n",
       "69572            Roman           True  False      Mnyusi B   \n",
       "8776           Grumeti            NaN   True       Nyamara   \n",
       "34310     Lottery Club           True   True       Majengo   \n",
       "67743           Unicef           True   True    Mahakamani   \n",
       "19728      Action In A           True   True    Kyanyamisa   \n",
       "...                ...            ...    ...           ...   \n",
       "60739  Germany Republi           True   True      Kiduruni   \n",
       "27263      Cefa-njombe           True   True      Igumbilo   \n",
       "37057              NaN           True  False     Madungulu   \n",
       "31282            Malec           True   True        Mwinyi   \n",
       "26348       World Bank           True   True  Kikatanyemba   \n",
       "\n",
       "                   wpt_name  \n",
       "id                           \n",
       "69572                  none  \n",
       "8776               Zahanati  \n",
       "34310           Kwa Mahundi  \n",
       "67743  Zahanati Ya Nanyumbu  \n",
       "19728               Shuleni  \n",
       "...                     ...  \n",
       "60739   Area Three Namba 27  \n",
       "27263     Kwa Yahona Kuvala  \n",
       "37057               Mashine  \n",
       "31282                Mshoro  \n",
       "26348       Kwa Mzee Lugawa  \n",
       "\n",
       "[59400 rows x 8 columns]"
      ]
     },
     "execution_count": 9,
     "metadata": {},
     "output_type": "execute_result"
    }
   ],
   "source": [
    "features[features.isna().sum().sort_values(ascending=False).head(8).index]"
   ]
  },
  {
   "cell_type": "markdown",
   "metadata": {},
   "source": [
    "В категориальных признаках зааменим пропуски на `'Other'`. В двоичных признаках заменим пропуски на моду."
   ]
  },
  {
   "cell_type": "code",
   "execution_count": 10,
   "metadata": {},
   "outputs": [],
   "source": [
    "cat_features = ['scheme_name','scheme_management','installer','funder','subvillage','wpt_name']\n",
    "features[cat_features] = features[cat_features].fillna('Other')"
   ]
  },
  {
   "cell_type": "code",
   "execution_count": 11,
   "metadata": {},
   "outputs": [
    {
     "data": {
      "text/html": [
       "<div>\n",
       "<style scoped>\n",
       "    .dataframe tbody tr th:only-of-type {\n",
       "        vertical-align: middle;\n",
       "    }\n",
       "\n",
       "    .dataframe tbody tr th {\n",
       "        vertical-align: top;\n",
       "    }\n",
       "\n",
       "    .dataframe thead th {\n",
       "        text-align: right;\n",
       "    }\n",
       "</style>\n",
       "<table border=\"1\" class=\"dataframe\">\n",
       "  <thead>\n",
       "    <tr style=\"text-align: right;\">\n",
       "      <th></th>\n",
       "      <th>public_meeting</th>\n",
       "      <th>permit</th>\n",
       "    </tr>\n",
       "  </thead>\n",
       "  <tbody>\n",
       "    <tr>\n",
       "      <th>0</th>\n",
       "      <td>True</td>\n",
       "      <td>True</td>\n",
       "    </tr>\n",
       "  </tbody>\n",
       "</table>\n",
       "</div>"
      ],
      "text/plain": [
       "  public_meeting permit\n",
       "0           True   True"
      ]
     },
     "execution_count": 11,
     "metadata": {},
     "output_type": "execute_result"
    }
   ],
   "source": [
    "bool_features = ['public_meeting','permit']\n",
    "features[bool_features].mode()"
   ]
  },
  {
   "cell_type": "code",
   "execution_count": 12,
   "metadata": {},
   "outputs": [
    {
     "name": "stderr",
     "output_type": "stream",
     "text": [
      "C:\\Users\\Lada\\AppData\\Local\\Temp\\ipykernel_4308\\2630939012.py:1: FutureWarning: Downcasting object dtype arrays on .fillna, .ffill, .bfill is deprecated and will change in a future version. Call result.infer_objects(copy=False) instead. To opt-in to the future behavior, set `pd.set_option('future.no_silent_downcasting', True)`\n",
      "  features = features.fillna(value={'public_meeting': True, 'permit': True})\n"
     ]
    }
   ],
   "source": [
    "features = features.fillna(value={'public_meeting': True, 'permit': True})"
   ]
  },
  {
   "cell_type": "code",
   "execution_count": 13,
   "metadata": {},
   "outputs": [
    {
     "data": {
      "text/plain": [
       "0"
      ]
     },
     "execution_count": 13,
     "metadata": {},
     "output_type": "execute_result"
    }
   ],
   "source": [
    "features.isna().sum().sum()"
   ]
  },
  {
   "cell_type": "markdown",
   "metadata": {},
   "source": [
    "Пропусков больше нет."
   ]
  },
  {
   "cell_type": "code",
   "execution_count": 14,
   "metadata": {},
   "outputs": [
    {
     "name": "stdout",
     "output_type": "stream",
     "text": [
      "<class 'pandas.core.frame.DataFrame'>\n",
      "Index: 59400 entries, 69572 to 26348\n",
      "Data columns (total 1 columns):\n",
      " #   Column        Non-Null Count  Dtype \n",
      "---  ------        --------------  ----- \n",
      " 0   status_group  59400 non-null  object\n",
      "dtypes: object(1)\n",
      "memory usage: 928.1+ KB\n"
     ]
    }
   ],
   "source": [
    "target.info()"
   ]
  },
  {
   "cell_type": "code",
   "execution_count": 15,
   "metadata": {},
   "outputs": [
    {
     "data": {
      "text/html": [
       "<div>\n",
       "<style scoped>\n",
       "    .dataframe tbody tr th:only-of-type {\n",
       "        vertical-align: middle;\n",
       "    }\n",
       "\n",
       "    .dataframe tbody tr th {\n",
       "        vertical-align: top;\n",
       "    }\n",
       "\n",
       "    .dataframe thead th {\n",
       "        text-align: right;\n",
       "    }\n",
       "</style>\n",
       "<table border=\"1\" class=\"dataframe\">\n",
       "  <thead>\n",
       "    <tr style=\"text-align: right;\">\n",
       "      <th></th>\n",
       "      <th>status_group</th>\n",
       "    </tr>\n",
       "  </thead>\n",
       "  <tbody>\n",
       "    <tr>\n",
       "      <th>count</th>\n",
       "      <td>59400</td>\n",
       "    </tr>\n",
       "    <tr>\n",
       "      <th>unique</th>\n",
       "      <td>3</td>\n",
       "    </tr>\n",
       "    <tr>\n",
       "      <th>top</th>\n",
       "      <td>functional</td>\n",
       "    </tr>\n",
       "    <tr>\n",
       "      <th>freq</th>\n",
       "      <td>32259</td>\n",
       "    </tr>\n",
       "  </tbody>\n",
       "</table>\n",
       "</div>"
      ],
      "text/plain": [
       "       status_group\n",
       "count         59400\n",
       "unique            3\n",
       "top      functional\n",
       "freq          32259"
      ]
     },
     "execution_count": 15,
     "metadata": {},
     "output_type": "execute_result"
    }
   ],
   "source": [
    "target.describe()"
   ]
  },
  {
   "cell_type": "code",
   "execution_count": 16,
   "metadata": {},
   "outputs": [
    {
     "data": {
      "text/plain": [
       "status_group\n",
       "functional                 32259\n",
       "functional needs repair     4317\n",
       "non functional             22824\n",
       "Name: status_group, dtype: int64"
      ]
     },
     "execution_count": 16,
     "metadata": {},
     "output_type": "execute_result"
    }
   ],
   "source": [
    "target.groupby(by='status_group')['status_group'].count()"
   ]
  },
  {
   "cell_type": "markdown",
   "metadata": {},
   "source": [
    "Есть сильный дисбаланс классов."
   ]
  },
  {
   "cell_type": "markdown",
   "metadata": {},
   "source": [
    "# 3 Modelling"
   ]
  },
  {
   "cell_type": "markdown",
   "metadata": {},
   "source": [
    "Разделим выборку на обучающую и тестовую."
   ]
  },
  {
   "cell_type": "code",
   "execution_count": 17,
   "metadata": {},
   "outputs": [],
   "source": [
    "X_train, X_test, y_train, y_test = train_test_split(features,\n",
    "                                                   target,\n",
    "                                                  random_state=42,\n",
    "                                                  test_size=0.2)"
   ]
  },
  {
   "cell_type": "markdown",
   "metadata": {},
   "source": [
    "## 3.1 H2O"
   ]
  },
  {
   "cell_type": "markdown",
   "metadata": {},
   "source": [
    "Найдем наилучшую модель с помощью модуля для AutoML H2O."
   ]
  },
  {
   "cell_type": "code",
   "execution_count": 18,
   "metadata": {},
   "outputs": [
    {
     "name": "stdout",
     "output_type": "stream",
     "text": [
      "Checking whether there is an H2O instance running at http://localhost:54321..... not found.\n",
      "Attempting to start a local H2O server...\n",
      "; Java HotSpot(TM) 64-Bit Server VM (build 25.421-b09, mixed mode)\n",
      "  Starting server from C:\\Users\\Lada\\VSCodeProjects\\OTUS\\.venv\\Lib\\site-packages\\h2o\\backend\\bin\\h2o.jar\n",
      "  Ice root: C:\\Users\\Lada\\AppData\\Local\\Temp\\tmpbx5hscp_\n",
      "  JVM stdout: C:\\Users\\Lada\\AppData\\Local\\Temp\\tmpbx5hscp_\\h2o_Lada_started_from_python.out\n",
      "  JVM stderr: C:\\Users\\Lada\\AppData\\Local\\Temp\\tmpbx5hscp_\\h2o_Lada_started_from_python.err\n",
      "  Server is running at http://127.0.0.1:54321\n",
      "Connecting to H2O server at http://127.0.0.1:54321 ... successful.\n"
     ]
    },
    {
     "data": {
      "text/html": [
       "\n",
       "<style>\n",
       "\n",
       "#h2o-table-1.h2o-container {\n",
       "  overflow-x: auto;\n",
       "}\n",
       "#h2o-table-1 .h2o-table {\n",
       "  /* width: 100%; */\n",
       "  margin-top: 1em;\n",
       "  margin-bottom: 1em;\n",
       "}\n",
       "#h2o-table-1 .h2o-table caption {\n",
       "  white-space: nowrap;\n",
       "  caption-side: top;\n",
       "  text-align: left;\n",
       "  /* margin-left: 1em; */\n",
       "  margin: 0;\n",
       "  font-size: larger;\n",
       "}\n",
       "#h2o-table-1 .h2o-table thead {\n",
       "  white-space: nowrap; \n",
       "  position: sticky;\n",
       "  top: 0;\n",
       "  box-shadow: 0 -1px inset;\n",
       "}\n",
       "#h2o-table-1 .h2o-table tbody {\n",
       "  overflow: auto;\n",
       "}\n",
       "#h2o-table-1 .h2o-table th,\n",
       "#h2o-table-1 .h2o-table td {\n",
       "  text-align: right;\n",
       "  /* border: 1px solid; */\n",
       "}\n",
       "#h2o-table-1 .h2o-table tr:nth-child(even) {\n",
       "  /* background: #F5F5F5 */\n",
       "}\n",
       "\n",
       "</style>      \n",
       "<div id=\"h2o-table-1\" class=\"h2o-container\">\n",
       "  <table class=\"h2o-table\">\n",
       "    <caption></caption>\n",
       "    <thead></thead>\n",
       "    <tbody><tr><td>H2O_cluster_uptime:</td>\n",
       "<td>03 secs</td></tr>\n",
       "<tr><td>H2O_cluster_timezone:</td>\n",
       "<td>Europe/Moscow</td></tr>\n",
       "<tr><td>H2O_data_parsing_timezone:</td>\n",
       "<td>UTC</td></tr>\n",
       "<tr><td>H2O_cluster_version:</td>\n",
       "<td>3.46.0.5</td></tr>\n",
       "<tr><td>H2O_cluster_version_age:</td>\n",
       "<td>1 month and 13 days</td></tr>\n",
       "<tr><td>H2O_cluster_name:</td>\n",
       "<td>H2O_from_python_Lada_u0emuz</td></tr>\n",
       "<tr><td>H2O_cluster_total_nodes:</td>\n",
       "<td>1</td></tr>\n",
       "<tr><td>H2O_cluster_free_memory:</td>\n",
       "<td>3.508 Gb</td></tr>\n",
       "<tr><td>H2O_cluster_total_cores:</td>\n",
       "<td>0</td></tr>\n",
       "<tr><td>H2O_cluster_allowed_cores:</td>\n",
       "<td>0</td></tr>\n",
       "<tr><td>H2O_cluster_status:</td>\n",
       "<td>locked, healthy</td></tr>\n",
       "<tr><td>H2O_connection_url:</td>\n",
       "<td>http://127.0.0.1:54321</td></tr>\n",
       "<tr><td>H2O_connection_proxy:</td>\n",
       "<td>{\"http\": null, \"https\": null}</td></tr>\n",
       "<tr><td>H2O_internal_security:</td>\n",
       "<td>False</td></tr>\n",
       "<tr><td>Python_version:</td>\n",
       "<td>3.12.3 final</td></tr></tbody>\n",
       "  </table>\n",
       "</div>\n"
      ],
      "text/plain": [
       "--------------------------  -----------------------------\n",
       "H2O_cluster_uptime:         03 secs\n",
       "H2O_cluster_timezone:       Europe/Moscow\n",
       "H2O_data_parsing_timezone:  UTC\n",
       "H2O_cluster_version:        3.46.0.5\n",
       "H2O_cluster_version_age:    1 month and 13 days\n",
       "H2O_cluster_name:           H2O_from_python_Lada_u0emuz\n",
       "H2O_cluster_total_nodes:    1\n",
       "H2O_cluster_free_memory:    3.508 Gb\n",
       "H2O_cluster_total_cores:    0\n",
       "H2O_cluster_allowed_cores:  0\n",
       "H2O_cluster_status:         locked, healthy\n",
       "H2O_connection_url:         http://127.0.0.1:54321\n",
       "H2O_connection_proxy:       {\"http\": null, \"https\": null}\n",
       "H2O_internal_security:      False\n",
       "Python_version:             3.12.3 final\n",
       "--------------------------  -----------------------------"
      ]
     },
     "metadata": {},
     "output_type": "display_data"
    }
   ],
   "source": [
    "import h2o\n",
    "from h2o.automl import H2OAutoML\n",
    "h2o.init()"
   ]
  },
  {
   "cell_type": "code",
   "execution_count": 19,
   "metadata": {},
   "outputs": [],
   "source": [
    "train = pd.concat([X_train, y_train], axis=1)"
   ]
  },
  {
   "cell_type": "code",
   "execution_count": 20,
   "metadata": {},
   "outputs": [
    {
     "name": "stdout",
     "output_type": "stream",
     "text": [
      "Parse progress: |████████████████████████████████████████████████████████████████| (done) 100%\n"
     ]
    }
   ],
   "source": [
    "train = h2o.H2OFrame(train)"
   ]
  },
  {
   "cell_type": "code",
   "execution_count": 21,
   "metadata": {},
   "outputs": [],
   "source": [
    "y = \"status_group\"\n",
    "x = train.columns\n",
    "x.remove(y)"
   ]
  },
  {
   "cell_type": "code",
   "execution_count": 22,
   "metadata": {},
   "outputs": [
    {
     "name": "stdout",
     "output_type": "stream",
     "text": [
      "AutoML progress: |\n",
      "20:48:48.22: AutoML: XGBoost is not available; skipping it.\n",
      "20:48:48.69: _train param, Dropping bad and constant columns: [recorded_by]\n",
      "\n",
      "██████████████████████████\n",
      "20:49:13.65: _train param, Dropping bad and constant columns: [recorded_by]\n",
      "\n",
      "████████████\n",
      "20:49:24.86: _train param, Dropping unused columns: [recorded_by]\n",
      "\n",
      "██████\n",
      "20:49:29.837: _train param, Dropping bad and constant columns: [recorded_by]\n",
      "\n",
      "███\n",
      "20:49:33.489: _train param, Dropping bad and constant columns: [recorded_by]\n",
      "\n",
      "███\n",
      "20:49:36.827: _train param, Dropping bad and constant columns: [recorded_by]\n",
      "\n",
      "████\n",
      "20:49:40.149: _train param, Dropping bad and constant columns: [recorded_by]\n",
      "\n",
      "████\n",
      "20:49:43.525: _train param, Dropping unused columns: [recorded_by]\n",
      "\n",
      "███\n",
      "20:49:46.598: _train param, Dropping unused columns: [recorded_by]\n",
      "\n",
      "██| (done) 100%\n"
     ]
    },
    {
     "data": {
      "text/html": [
       "<pre style='margin: 1em 0 1em 0;'>Model Details\n",
       "=============\n",
       "H2ORandomForestEstimator : Distributed Random Forest\n",
       "Model Key: DRF_1_AutoML_1_20241012_204847\n",
       "</pre>\n",
       "<div style='margin: 1em 0 1em 0;'>\n",
       "<style>\n",
       "\n",
       "#h2o-table-2.h2o-container {\n",
       "  overflow-x: auto;\n",
       "}\n",
       "#h2o-table-2 .h2o-table {\n",
       "  /* width: 100%; */\n",
       "  margin-top: 1em;\n",
       "  margin-bottom: 1em;\n",
       "}\n",
       "#h2o-table-2 .h2o-table caption {\n",
       "  white-space: nowrap;\n",
       "  caption-side: top;\n",
       "  text-align: left;\n",
       "  /* margin-left: 1em; */\n",
       "  margin: 0;\n",
       "  font-size: larger;\n",
       "}\n",
       "#h2o-table-2 .h2o-table thead {\n",
       "  white-space: nowrap; \n",
       "  position: sticky;\n",
       "  top: 0;\n",
       "  box-shadow: 0 -1px inset;\n",
       "}\n",
       "#h2o-table-2 .h2o-table tbody {\n",
       "  overflow: auto;\n",
       "}\n",
       "#h2o-table-2 .h2o-table th,\n",
       "#h2o-table-2 .h2o-table td {\n",
       "  text-align: right;\n",
       "  /* border: 1px solid; */\n",
       "}\n",
       "#h2o-table-2 .h2o-table tr:nth-child(even) {\n",
       "  /* background: #F5F5F5 */\n",
       "}\n",
       "\n",
       "</style>      \n",
       "<div id=\"h2o-table-2\" class=\"h2o-container\">\n",
       "  <table class=\"h2o-table\">\n",
       "    <caption>Model Summary: </caption>\n",
       "    <thead><tr><th></th>\n",
       "<th>number_of_trees</th>\n",
       "<th>number_of_internal_trees</th>\n",
       "<th>model_size_in_bytes</th>\n",
       "<th>min_depth</th>\n",
       "<th>max_depth</th>\n",
       "<th>mean_depth</th>\n",
       "<th>min_leaves</th>\n",
       "<th>max_leaves</th>\n",
       "<th>mean_leaves</th></tr></thead>\n",
       "    <tbody><tr><td></td>\n",
       "<td>11.0</td>\n",
       "<td>33.0</td>\n",
       "<td>1425795.0</td>\n",
       "<td>20.0</td>\n",
       "<td>20.0</td>\n",
       "<td>20.0</td>\n",
       "<td>1659.0</td>\n",
       "<td>3514.0</td>\n",
       "<td>2619.0908</td></tr></tbody>\n",
       "  </table>\n",
       "</div>\n",
       "</div>\n",
       "<div style='margin: 1em 0 1em 0;'><pre style='margin: 1em 0 1em 0;'>ModelMetricsMultinomial: drf\n",
       "** Reported on train data. **\n",
       "\n",
       "MSE: 0.17590002151330464\n",
       "RMSE: 0.41940436515766577\n",
       "LogLoss: 1.8207290723580458\n",
       "Mean Per-Class Error: 0.35900200285443923\n",
       "AUC table was not computed: it is either disabled (model parameter 'auc_type' was set to AUTO or NONE) or the domain size exceeds the limit (maximum is 50 domains).\n",
       "AUCPR table was not computed: it is either disabled (model parameter 'auc_type' was set to AUTO or NONE) or the domain size exceeds the limit (maximum is 50 domains).</pre>\n",
       "<div style='margin: 1em 0 1em 0;'>\n",
       "<style>\n",
       "\n",
       "#h2o-table-3.h2o-container {\n",
       "  overflow-x: auto;\n",
       "}\n",
       "#h2o-table-3 .h2o-table {\n",
       "  /* width: 100%; */\n",
       "  margin-top: 1em;\n",
       "  margin-bottom: 1em;\n",
       "}\n",
       "#h2o-table-3 .h2o-table caption {\n",
       "  white-space: nowrap;\n",
       "  caption-side: top;\n",
       "  text-align: left;\n",
       "  /* margin-left: 1em; */\n",
       "  margin: 0;\n",
       "  font-size: larger;\n",
       "}\n",
       "#h2o-table-3 .h2o-table thead {\n",
       "  white-space: nowrap; \n",
       "  position: sticky;\n",
       "  top: 0;\n",
       "  box-shadow: 0 -1px inset;\n",
       "}\n",
       "#h2o-table-3 .h2o-table tbody {\n",
       "  overflow: auto;\n",
       "}\n",
       "#h2o-table-3 .h2o-table th,\n",
       "#h2o-table-3 .h2o-table td {\n",
       "  text-align: right;\n",
       "  /* border: 1px solid; */\n",
       "}\n",
       "#h2o-table-3 .h2o-table tr:nth-child(even) {\n",
       "  /* background: #F5F5F5 */\n",
       "}\n",
       "\n",
       "</style>      \n",
       "<div id=\"h2o-table-3\" class=\"h2o-container\">\n",
       "  <table class=\"h2o-table\">\n",
       "    <caption>Confusion Matrix: Row labels: Actual class; Column labels: Predicted class</caption>\n",
       "    <thead><tr><th>functional</th>\n",
       "<th>functional needs repair</th>\n",
       "<th>non functional</th>\n",
       "<th>Error</th>\n",
       "<th>Rate</th></tr></thead>\n",
       "    <tbody><tr><td>15590.0</td>\n",
       "<td>510.0</td>\n",
       "<td>1929.0</td>\n",
       "<td>0.1352820</td>\n",
       "<td>2 439 / 18 029</td></tr>\n",
       "<tr><td>1238.0</td>\n",
       "<td>746.0</td>\n",
       "<td>428.0</td>\n",
       "<td>0.6907131</td>\n",
       "<td>1 666 / 2 412</td></tr>\n",
       "<tr><td>2922.0</td>\n",
       "<td>244.0</td>\n",
       "<td>9447.0</td>\n",
       "<td>0.2510109</td>\n",
       "<td>3 166 / 12 613</td></tr>\n",
       "<tr><td>19750.0</td>\n",
       "<td>1500.0</td>\n",
       "<td>11804.0</td>\n",
       "<td>0.2199734</td>\n",
       "<td>7 271 / 33 054</td></tr></tbody>\n",
       "  </table>\n",
       "</div>\n",
       "</div>\n",
       "<div style='margin: 1em 0 1em 0;'>\n",
       "<style>\n",
       "\n",
       "#h2o-table-4.h2o-container {\n",
       "  overflow-x: auto;\n",
       "}\n",
       "#h2o-table-4 .h2o-table {\n",
       "  /* width: 100%; */\n",
       "  margin-top: 1em;\n",
       "  margin-bottom: 1em;\n",
       "}\n",
       "#h2o-table-4 .h2o-table caption {\n",
       "  white-space: nowrap;\n",
       "  caption-side: top;\n",
       "  text-align: left;\n",
       "  /* margin-left: 1em; */\n",
       "  margin: 0;\n",
       "  font-size: larger;\n",
       "}\n",
       "#h2o-table-4 .h2o-table thead {\n",
       "  white-space: nowrap; \n",
       "  position: sticky;\n",
       "  top: 0;\n",
       "  box-shadow: 0 -1px inset;\n",
       "}\n",
       "#h2o-table-4 .h2o-table tbody {\n",
       "  overflow: auto;\n",
       "}\n",
       "#h2o-table-4 .h2o-table th,\n",
       "#h2o-table-4 .h2o-table td {\n",
       "  text-align: right;\n",
       "  /* border: 1px solid; */\n",
       "}\n",
       "#h2o-table-4 .h2o-table tr:nth-child(even) {\n",
       "  /* background: #F5F5F5 */\n",
       "}\n",
       "\n",
       "</style>      \n",
       "<div id=\"h2o-table-4\" class=\"h2o-container\">\n",
       "  <table class=\"h2o-table\">\n",
       "    <caption>Top-3 Hit Ratios: </caption>\n",
       "    <thead><tr><th>k</th>\n",
       "<th>hit_ratio</th></tr></thead>\n",
       "    <tbody><tr><td>1</td>\n",
       "<td>0.7800266</td></tr>\n",
       "<tr><td>2</td>\n",
       "<td>0.939856</td></tr>\n",
       "<tr><td>3</td>\n",
       "<td>1.0</td></tr></tbody>\n",
       "  </table>\n",
       "</div>\n",
       "</div></div>\n",
       "<div style='margin: 1em 0 1em 0;'><pre style='margin: 1em 0 1em 0;'>ModelMetricsMultinomial: drf\n",
       "** Reported on validation data. **\n",
       "\n",
       "MSE: 0.1573997078684057\n",
       "RMSE: 0.3967363203292657\n",
       "LogLoss: 0.7642086423094742\n",
       "Mean Per-Class Error: 0.35020449535276027\n",
       "AUC table was not computed: it is either disabled (model parameter 'auc_type' was set to AUTO or NONE) or the domain size exceeds the limit (maximum is 50 domains).\n",
       "AUCPR table was not computed: it is either disabled (model parameter 'auc_type' was set to AUTO or NONE) or the domain size exceeds the limit (maximum is 50 domains).</pre>\n",
       "<div style='margin: 1em 0 1em 0;'>\n",
       "<style>\n",
       "\n",
       "#h2o-table-5.h2o-container {\n",
       "  overflow-x: auto;\n",
       "}\n",
       "#h2o-table-5 .h2o-table {\n",
       "  /* width: 100%; */\n",
       "  margin-top: 1em;\n",
       "  margin-bottom: 1em;\n",
       "}\n",
       "#h2o-table-5 .h2o-table caption {\n",
       "  white-space: nowrap;\n",
       "  caption-side: top;\n",
       "  text-align: left;\n",
       "  /* margin-left: 1em; */\n",
       "  margin: 0;\n",
       "  font-size: larger;\n",
       "}\n",
       "#h2o-table-5 .h2o-table thead {\n",
       "  white-space: nowrap; \n",
       "  position: sticky;\n",
       "  top: 0;\n",
       "  box-shadow: 0 -1px inset;\n",
       "}\n",
       "#h2o-table-5 .h2o-table tbody {\n",
       "  overflow: auto;\n",
       "}\n",
       "#h2o-table-5 .h2o-table th,\n",
       "#h2o-table-5 .h2o-table td {\n",
       "  text-align: right;\n",
       "  /* border: 1px solid; */\n",
       "}\n",
       "#h2o-table-5 .h2o-table tr:nth-child(even) {\n",
       "  /* background: #F5F5F5 */\n",
       "}\n",
       "\n",
       "</style>      \n",
       "<div id=\"h2o-table-5\" class=\"h2o-container\">\n",
       "  <table class=\"h2o-table\">\n",
       "    <caption>Confusion Matrix: Row labels: Actual class; Column labels: Predicted class</caption>\n",
       "    <thead><tr><th>functional</th>\n",
       "<th>functional needs repair</th>\n",
       "<th>non functional</th>\n",
       "<th>Error</th>\n",
       "<th>Rate</th></tr></thead>\n",
       "    <tbody><tr><td>2330.0</td>\n",
       "<td>41.0</td>\n",
       "<td>231.0</td>\n",
       "<td>0.1045350</td>\n",
       "<td>272 / 2 602</td></tr>\n",
       "<tr><td>171.0</td>\n",
       "<td>97.0</td>\n",
       "<td>58.0</td>\n",
       "<td>0.7024540</td>\n",
       "<td>229 / 326</td></tr>\n",
       "<tr><td>424.0</td>\n",
       "<td>25.0</td>\n",
       "<td>1394.0</td>\n",
       "<td>0.2436245</td>\n",
       "<td>449 / 1 843</td></tr>\n",
       "<tr><td>2925.0</td>\n",
       "<td>163.0</td>\n",
       "<td>1683.0</td>\n",
       "<td>0.1991197</td>\n",
       "<td>950 / 4 771</td></tr></tbody>\n",
       "  </table>\n",
       "</div>\n",
       "</div>\n",
       "<div style='margin: 1em 0 1em 0;'>\n",
       "<style>\n",
       "\n",
       "#h2o-table-6.h2o-container {\n",
       "  overflow-x: auto;\n",
       "}\n",
       "#h2o-table-6 .h2o-table {\n",
       "  /* width: 100%; */\n",
       "  margin-top: 1em;\n",
       "  margin-bottom: 1em;\n",
       "}\n",
       "#h2o-table-6 .h2o-table caption {\n",
       "  white-space: nowrap;\n",
       "  caption-side: top;\n",
       "  text-align: left;\n",
       "  /* margin-left: 1em; */\n",
       "  margin: 0;\n",
       "  font-size: larger;\n",
       "}\n",
       "#h2o-table-6 .h2o-table thead {\n",
       "  white-space: nowrap; \n",
       "  position: sticky;\n",
       "  top: 0;\n",
       "  box-shadow: 0 -1px inset;\n",
       "}\n",
       "#h2o-table-6 .h2o-table tbody {\n",
       "  overflow: auto;\n",
       "}\n",
       "#h2o-table-6 .h2o-table th,\n",
       "#h2o-table-6 .h2o-table td {\n",
       "  text-align: right;\n",
       "  /* border: 1px solid; */\n",
       "}\n",
       "#h2o-table-6 .h2o-table tr:nth-child(even) {\n",
       "  /* background: #F5F5F5 */\n",
       "}\n",
       "\n",
       "</style>      \n",
       "<div id=\"h2o-table-6\" class=\"h2o-container\">\n",
       "  <table class=\"h2o-table\">\n",
       "    <caption>Top-3 Hit Ratios: </caption>\n",
       "    <thead><tr><th>k</th>\n",
       "<th>hit_ratio</th></tr></thead>\n",
       "    <tbody><tr><td>1</td>\n",
       "<td>0.8008803</td></tr>\n",
       "<tr><td>2</td>\n",
       "<td>0.9561937</td></tr>\n",
       "<tr><td>3</td>\n",
       "<td>1.0</td></tr></tbody>\n",
       "  </table>\n",
       "</div>\n",
       "</div></div>\n",
       "<div style='margin: 1em 0 1em 0;'>\n",
       "<style>\n",
       "\n",
       "#h2o-table-7.h2o-container {\n",
       "  overflow-x: auto;\n",
       "}\n",
       "#h2o-table-7 .h2o-table {\n",
       "  /* width: 100%; */\n",
       "  margin-top: 1em;\n",
       "  margin-bottom: 1em;\n",
       "}\n",
       "#h2o-table-7 .h2o-table caption {\n",
       "  white-space: nowrap;\n",
       "  caption-side: top;\n",
       "  text-align: left;\n",
       "  /* margin-left: 1em; */\n",
       "  margin: 0;\n",
       "  font-size: larger;\n",
       "}\n",
       "#h2o-table-7 .h2o-table thead {\n",
       "  white-space: nowrap; \n",
       "  position: sticky;\n",
       "  top: 0;\n",
       "  box-shadow: 0 -1px inset;\n",
       "}\n",
       "#h2o-table-7 .h2o-table tbody {\n",
       "  overflow: auto;\n",
       "}\n",
       "#h2o-table-7 .h2o-table th,\n",
       "#h2o-table-7 .h2o-table td {\n",
       "  text-align: right;\n",
       "  /* border: 1px solid; */\n",
       "}\n",
       "#h2o-table-7 .h2o-table tr:nth-child(even) {\n",
       "  /* background: #F5F5F5 */\n",
       "}\n",
       "\n",
       "</style>      \n",
       "<div id=\"h2o-table-7\" class=\"h2o-container\">\n",
       "  <table class=\"h2o-table\">\n",
       "    <caption>Scoring History: </caption>\n",
       "    <thead><tr><th></th>\n",
       "<th>timestamp</th>\n",
       "<th>duration</th>\n",
       "<th>number_of_trees</th>\n",
       "<th>training_rmse</th>\n",
       "<th>training_logloss</th>\n",
       "<th>training_classification_error</th>\n",
       "<th>training_auc</th>\n",
       "<th>training_pr_auc</th>\n",
       "<th>validation_rmse</th>\n",
       "<th>validation_logloss</th>\n",
       "<th>validation_classification_error</th>\n",
       "<th>validation_auc</th>\n",
       "<th>validation_pr_auc</th></tr></thead>\n",
       "    <tbody><tr><td></td>\n",
       "<td>2024-10-12 20:49:29</td>\n",
       "<td> 0.050 sec</td>\n",
       "<td>0.0</td>\n",
       "<td>nan</td>\n",
       "<td>nan</td>\n",
       "<td>nan</td>\n",
       "<td>nan</td>\n",
       "<td>nan</td>\n",
       "<td>nan</td>\n",
       "<td>nan</td>\n",
       "<td>nan</td>\n",
       "<td>nan</td>\n",
       "<td>nan</td></tr>\n",
       "<tr><td></td>\n",
       "<td>2024-10-12 20:49:31</td>\n",
       "<td> 1.865 sec</td>\n",
       "<td>5.0</td>\n",
       "<td>0.4510745</td>\n",
       "<td>3.6431184</td>\n",
       "<td>0.2390516</td>\n",
       "<td>nan</td>\n",
       "<td>nan</td>\n",
       "<td>0.4038818</td>\n",
       "<td>1.1869097</td>\n",
       "<td>0.2077133</td>\n",
       "<td>nan</td>\n",
       "<td>nan</td></tr>\n",
       "<tr><td></td>\n",
       "<td>2024-10-12 20:49:33</td>\n",
       "<td> 3.283 sec</td>\n",
       "<td>10.0</td>\n",
       "<td>0.4232976</td>\n",
       "<td>2.0047251</td>\n",
       "<td>0.2228363</td>\n",
       "<td>nan</td>\n",
       "<td>nan</td>\n",
       "<td>0.3977604</td>\n",
       "<td>0.7796007</td>\n",
       "<td>0.1978621</td>\n",
       "<td>nan</td>\n",
       "<td>nan</td></tr>\n",
       "<tr><td></td>\n",
       "<td>2024-10-12 20:49:33</td>\n",
       "<td> 3.568 sec</td>\n",
       "<td>11.0</td>\n",
       "<td>0.4194044</td>\n",
       "<td>1.8207291</td>\n",
       "<td>0.2199734</td>\n",
       "<td>nan</td>\n",
       "<td>nan</td>\n",
       "<td>0.3967363</td>\n",
       "<td>0.7642086</td>\n",
       "<td>0.1991197</td>\n",
       "<td>nan</td>\n",
       "<td>nan</td></tr></tbody>\n",
       "  </table>\n",
       "</div>\n",
       "</div>\n",
       "<div style='margin: 1em 0 1em 0;'>\n",
       "<style>\n",
       "\n",
       "#h2o-table-8.h2o-container {\n",
       "  overflow-x: auto;\n",
       "}\n",
       "#h2o-table-8 .h2o-table {\n",
       "  /* width: 100%; */\n",
       "  margin-top: 1em;\n",
       "  margin-bottom: 1em;\n",
       "}\n",
       "#h2o-table-8 .h2o-table caption {\n",
       "  white-space: nowrap;\n",
       "  caption-side: top;\n",
       "  text-align: left;\n",
       "  /* margin-left: 1em; */\n",
       "  margin: 0;\n",
       "  font-size: larger;\n",
       "}\n",
       "#h2o-table-8 .h2o-table thead {\n",
       "  white-space: nowrap; \n",
       "  position: sticky;\n",
       "  top: 0;\n",
       "  box-shadow: 0 -1px inset;\n",
       "}\n",
       "#h2o-table-8 .h2o-table tbody {\n",
       "  overflow: auto;\n",
       "}\n",
       "#h2o-table-8 .h2o-table th,\n",
       "#h2o-table-8 .h2o-table td {\n",
       "  text-align: right;\n",
       "  /* border: 1px solid; */\n",
       "}\n",
       "#h2o-table-8 .h2o-table tr:nth-child(even) {\n",
       "  /* background: #F5F5F5 */\n",
       "}\n",
       "\n",
       "</style>      \n",
       "<div id=\"h2o-table-8\" class=\"h2o-container\">\n",
       "  <table class=\"h2o-table\">\n",
       "    <caption>Variable Importances: </caption>\n",
       "    <thead><tr><th>variable</th>\n",
       "<th>relative_importance</th>\n",
       "<th>scaled_importance</th>\n",
       "<th>percentage</th></tr></thead>\n",
       "    <tbody><tr><td>lga</td>\n",
       "<td>13016.2167969</td>\n",
       "<td>1.0</td>\n",
       "<td>0.1210562</td></tr>\n",
       "<tr><td>quantity</td>\n",
       "<td>10834.9042969</td>\n",
       "<td>0.8324158</td>\n",
       "<td>0.1007691</td></tr>\n",
       "<tr><td>quantity_group</td>\n",
       "<td>6002.3935547</td>\n",
       "<td>0.4611473</td>\n",
       "<td>0.0558248</td></tr>\n",
       "<tr><td>extraction_type</td>\n",
       "<td>5971.9350586</td>\n",
       "<td>0.4588073</td>\n",
       "<td>0.0555415</td></tr>\n",
       "<tr><td>wpt_name</td>\n",
       "<td>5522.6333008</td>\n",
       "<td>0.4242887</td>\n",
       "<td>0.0513628</td></tr>\n",
       "<tr><td>subvillage</td>\n",
       "<td>5455.1289062</td>\n",
       "<td>0.4191025</td>\n",
       "<td>0.0507350</td></tr>\n",
       "<tr><td>ward</td>\n",
       "<td>4877.7998047</td>\n",
       "<td>0.3747479</td>\n",
       "<td>0.0453656</td></tr>\n",
       "<tr><td>waterpoint_type</td>\n",
       "<td>4679.0756836</td>\n",
       "<td>0.3594805</td>\n",
       "<td>0.0435174</td></tr>\n",
       "<tr><td>extraction_type_group</td>\n",
       "<td>4521.9013672</td>\n",
       "<td>0.3474052</td>\n",
       "<td>0.0420556</td></tr>\n",
       "<tr><td>funder</td>\n",
       "<td>4011.3178711</td>\n",
       "<td>0.3081785</td>\n",
       "<td>0.0373069</td></tr>\n",
       "<tr><td>---</td>\n",
       "<td>---</td>\n",
       "<td>---</td>\n",
       "<td>---</td></tr>\n",
       "<tr><td>water_quality</td>\n",
       "<td>917.7124634</td>\n",
       "<td>0.0705053</td>\n",
       "<td>0.0085351</td></tr>\n",
       "<tr><td>management_group</td>\n",
       "<td>598.5916138</td>\n",
       "<td>0.0459881</td>\n",
       "<td>0.0055672</td></tr>\n",
       "<tr><td>region_code</td>\n",
       "<td>554.0508423</td>\n",
       "<td>0.0425662</td>\n",
       "<td>0.0051529</td></tr>\n",
       "<tr><td>district_code</td>\n",
       "<td>548.6670532</td>\n",
       "<td>0.0421526</td>\n",
       "<td>0.0051028</td></tr>\n",
       "<tr><td>permit</td>\n",
       "<td>487.5210876</td>\n",
       "<td>0.0374549</td>\n",
       "<td>0.0045341</td></tr>\n",
       "<tr><td>public_meeting</td>\n",
       "<td>483.9812317</td>\n",
       "<td>0.0371829</td>\n",
       "<td>0.0045012</td></tr>\n",
       "<tr><td>date_recorded</td>\n",
       "<td>436.3299255</td>\n",
       "<td>0.0335220</td>\n",
       "<td>0.0040581</td></tr>\n",
       "<tr><td>source_class</td>\n",
       "<td>421.6497498</td>\n",
       "<td>0.0323942</td>\n",
       "<td>0.0039215</td></tr>\n",
       "<tr><td>amount_tsh</td>\n",
       "<td>236.4933624</td>\n",
       "<td>0.0181691</td>\n",
       "<td>0.0021995</td></tr>\n",
       "<tr><td>num_private</td>\n",
       "<td>57.1325111</td>\n",
       "<td>0.0043893</td>\n",
       "<td>0.0005314</td></tr></tbody>\n",
       "  </table>\n",
       "</div>\n",
       "<pre style='font-size: smaller; margin-bottom: 1em;'>[38 rows x 4 columns]</pre></div><pre style=\"font-size: smaller; margin: 1em 0 0 0;\">\n",
       "\n",
       "[tips]\n",
       "Use `model.explain()` to inspect the model.\n",
       "--\n",
       "Use `h2o.display.toggle_user_tips()` to switch on/off this section.</pre>"
      ],
      "text/plain": [
       "Model Details\n",
       "=============\n",
       "H2ORandomForestEstimator : Distributed Random Forest\n",
       "Model Key: DRF_1_AutoML_1_20241012_204847\n",
       "\n",
       "\n",
       "Model Summary: \n",
       "    number_of_trees    number_of_internal_trees    model_size_in_bytes    min_depth    max_depth    mean_depth    min_leaves    max_leaves    mean_leaves\n",
       "--  -----------------  --------------------------  ---------------------  -----------  -----------  ------------  ------------  ------------  -------------\n",
       "    11                 33                          1.4258e+06             20           20           20            1659          3514          2619.09\n",
       "\n",
       "ModelMetricsMultinomial: drf\n",
       "** Reported on train data. **\n",
       "\n",
       "MSE: 0.17590002151330464\n",
       "RMSE: 0.41940436515766577\n",
       "LogLoss: 1.8207290723580458\n",
       "Mean Per-Class Error: 0.35900200285443923\n",
       "AUC table was not computed: it is either disabled (model parameter 'auc_type' was set to AUTO or NONE) or the domain size exceeds the limit (maximum is 50 domains).\n",
       "AUCPR table was not computed: it is either disabled (model parameter 'auc_type' was set to AUTO or NONE) or the domain size exceeds the limit (maximum is 50 domains).\n",
       "\n",
       "Confusion Matrix: Row labels: Actual class; Column labels: Predicted class\n",
       "functional    functional needs repair    non functional    Error     Rate\n",
       "------------  -------------------------  ----------------  --------  --------------\n",
       "15590         510                        1929              0.135282  2 439 / 18 029\n",
       "1238          746                        428               0.690713  1 666 / 2 412\n",
       "2922          244                        9447              0.251011  3 166 / 12 613\n",
       "19750         1500                       11804             0.219973  7 271 / 33 054\n",
       "\n",
       "Top-3 Hit Ratios: \n",
       "k    hit_ratio\n",
       "---  -----------\n",
       "1    0.780027\n",
       "2    0.939856\n",
       "3    1\n",
       "\n",
       "ModelMetricsMultinomial: drf\n",
       "** Reported on validation data. **\n",
       "\n",
       "MSE: 0.1573997078684057\n",
       "RMSE: 0.3967363203292657\n",
       "LogLoss: 0.7642086423094742\n",
       "Mean Per-Class Error: 0.35020449535276027\n",
       "AUC table was not computed: it is either disabled (model parameter 'auc_type' was set to AUTO or NONE) or the domain size exceeds the limit (maximum is 50 domains).\n",
       "AUCPR table was not computed: it is either disabled (model parameter 'auc_type' was set to AUTO or NONE) or the domain size exceeds the limit (maximum is 50 domains).\n",
       "\n",
       "Confusion Matrix: Row labels: Actual class; Column labels: Predicted class\n",
       "functional    functional needs repair    non functional    Error     Rate\n",
       "------------  -------------------------  ----------------  --------  -----------\n",
       "2330          41                         231               0.104535  272 / 2 602\n",
       "171           97                         58                0.702454  229 / 326\n",
       "424           25                         1394              0.243625  449 / 1 843\n",
       "2925          163                        1683              0.19912   950 / 4 771\n",
       "\n",
       "Top-3 Hit Ratios: \n",
       "k    hit_ratio\n",
       "---  -----------\n",
       "1    0.80088\n",
       "2    0.956194\n",
       "3    1\n",
       "\n",
       "Scoring History: \n",
       "    timestamp            duration    number_of_trees    training_rmse    training_logloss    training_classification_error    training_auc    training_pr_auc    validation_rmse    validation_logloss    validation_classification_error    validation_auc    validation_pr_auc\n",
       "--  -------------------  ----------  -----------------  ---------------  ------------------  -------------------------------  --------------  -----------------  -----------------  --------------------  ---------------------------------  ----------------  -------------------\n",
       "    2024-10-12 20:49:29  0.050 sec   0                  nan              nan                 nan                              nan             nan                nan                nan                   nan                                nan               nan\n",
       "    2024-10-12 20:49:31  1.865 sec   5                  0.451074         3.64312             0.239052                         nan             nan                0.403882           1.18691               0.207713                           nan               nan\n",
       "    2024-10-12 20:49:33  3.283 sec   10                 0.423298         2.00473             0.222836                         nan             nan                0.39776            0.779601              0.197862                           nan               nan\n",
       "    2024-10-12 20:49:33  3.568 sec   11                 0.419404         1.82073             0.219973                         nan             nan                0.396736           0.764209              0.19912                            nan               nan\n",
       "\n",
       "Variable Importances: \n",
       "variable               relative_importance    scaled_importance      percentage\n",
       "---------------------  ---------------------  ---------------------  ---------------------\n",
       "lga                    13016.216796875        1.0                    0.1210562412978753\n",
       "quantity               10834.904296875        0.8324157830158683     0.10076912588892876\n",
       "quantity_group         6002.3935546875        0.46114732478400217    0.055824761822921835\n",
       "extraction_type        5971.93505859375       0.45880728262205367    0.05554148511431779\n",
       "wpt_name               5522.63330078125       0.4242886690476108     0.051362791500181935\n",
       "subvillage             5455.12890625          0.4191024927888183     0.05073497249558423\n",
       "ward                   4877.7998046875        0.37474789186506074    0.045365571223486875\n",
       "waterpoint_type        4679.07568359375       0.35948046629932645    0.04351735407020399\n",
       "extraction_type_group  4521.9013671875        0.34740519751277815    0.0420555674182429\n",
       "funder                 4011.31787109375       0.30817847717908387    0.03730692809620293\n",
       "---                    ---                    ---                    ---\n",
       "water_quality          917.7124633789062      0.07050531484687896    0.00853510840688645\n",
       "management_group       598.5916137695312      0.04598814103290322    0.005567151497719852\n",
       "region_code            554.0508422851562      0.04256619653248059    0.005152903758568753\n",
       "district_code          548.6670532226562      0.04215257488292474    0.005102832276354095\n",
       "permit                 487.5210876464844      0.03745489916574922    0.0045341493111965255\n",
       "public_meeting         483.9812316894531      0.037182941805767235   0.004501227175403814\n",
       "date_recorded          436.3299255371094      0.03352202351468713    0.004058050167387015\n",
       "source_class           421.6497497558594      0.032394186139945914   0.00392151841400558\n",
       "amount_tsh             236.4933624267578      0.018169132100161113   0.0021994868396900753\n",
       "num_private            57.132511138916016     0.0043893330935170565  0.0005313561661055503\n",
       "[38 rows x 4 columns]\n",
       "\n",
       "\n",
       "[tips]\n",
       "Use `model.explain()` to inspect the model.\n",
       "--\n",
       "Use `h2o.display.toggle_user_tips()` to switch on/off this section."
      ]
     },
     "execution_count": 22,
     "metadata": {},
     "output_type": "execute_result"
    }
   ],
   "source": [
    "aml = H2OAutoML(max_runtime_secs=60, seed=1)\n",
    "aml.train(x=x, y=y, training_frame=train)"
   ]
  },
  {
   "cell_type": "code",
   "execution_count": 23,
   "metadata": {},
   "outputs": [
    {
     "data": {
      "text/html": [
       "<table class='dataframe'>\n",
       "<thead>\n",
       "<tr><th>model_id                                               </th><th style=\"text-align: right;\">  mean_per_class_error</th><th style=\"text-align: right;\">  logloss</th><th style=\"text-align: right;\">    rmse</th><th style=\"text-align: right;\">     mse</th></tr>\n",
       "</thead>\n",
       "<tbody>\n",
       "<tr><td>DRF_1_AutoML_1_20241012_204847                         </td><td style=\"text-align: right;\">              0.350204</td><td style=\"text-align: right;\"> 0.764209</td><td style=\"text-align: right;\">0.396736</td><td style=\"text-align: right;\">0.1574  </td></tr>\n",
       "<tr><td>GBM_1_AutoML_1_20241012_204847                         </td><td style=\"text-align: right;\">              0.353476</td><td style=\"text-align: right;\"> 0.486639</td><td style=\"text-align: right;\">0.391119</td><td style=\"text-align: right;\">0.152974</td></tr>\n",
       "<tr><td>StackedEnsemble_BestOfFamily_1_AutoML_1_20241012_204847</td><td style=\"text-align: right;\">              0.354496</td><td style=\"text-align: right;\"> 0.486715</td><td style=\"text-align: right;\">0.395895</td><td style=\"text-align: right;\">0.156733</td></tr>\n",
       "<tr><td>StackedEnsemble_BestOfFamily_2_AutoML_1_20241012_204847</td><td style=\"text-align: right;\">              0.355438</td><td style=\"text-align: right;\"> 0.48509 </td><td style=\"text-align: right;\">0.395483</td><td style=\"text-align: right;\">0.156407</td></tr>\n",
       "<tr><td>GBM_2_AutoML_1_20241012_204847                         </td><td style=\"text-align: right;\">              0.36154 </td><td style=\"text-align: right;\"> 0.491171</td><td style=\"text-align: right;\">0.397652</td><td style=\"text-align: right;\">0.158127</td></tr>\n",
       "<tr><td>GBM_4_AutoML_1_20241012_204847                         </td><td style=\"text-align: right;\">              0.367685</td><td style=\"text-align: right;\"> 0.511455</td><td style=\"text-align: right;\">0.408161</td><td style=\"text-align: right;\">0.166595</td></tr>\n",
       "<tr><td>GBM_3_AutoML_1_20241012_204847                         </td><td style=\"text-align: right;\">              0.369245</td><td style=\"text-align: right;\"> 0.497198</td><td style=\"text-align: right;\">0.400512</td><td style=\"text-align: right;\">0.16041 </td></tr>\n",
       "<tr><td>StackedEnsemble_AllModels_1_AutoML_1_20241012_204847   </td><td style=\"text-align: right;\">              0.449799</td><td style=\"text-align: right;\"> 0.565283</td><td style=\"text-align: right;\">0.434096</td><td style=\"text-align: right;\">0.188439</td></tr>\n",
       "<tr><td>GLM_1_AutoML_1_20241012_204847                         </td><td style=\"text-align: right;\">              0.553663</td><td style=\"text-align: right;\"> 0.797695</td><td style=\"text-align: right;\">0.529351</td><td style=\"text-align: right;\">0.280213</td></tr>\n",
       "</tbody>\n",
       "</table><pre style='font-size: smaller; margin-bottom: 1em;'>[9 rows x 5 columns]</pre>"
      ],
      "text/plain": [
       "model_id                                                   mean_per_class_error    logloss      rmse       mse\n",
       "-------------------------------------------------------  ----------------------  ---------  --------  --------\n",
       "DRF_1_AutoML_1_20241012_204847                                         0.350204   0.764209  0.396736  0.1574\n",
       "GBM_1_AutoML_1_20241012_204847                                         0.353476   0.486639  0.391119  0.152974\n",
       "StackedEnsemble_BestOfFamily_1_AutoML_1_20241012_204847                0.354496   0.486715  0.395895  0.156733\n",
       "StackedEnsemble_BestOfFamily_2_AutoML_1_20241012_204847                0.355438   0.48509   0.395483  0.156407\n",
       "GBM_2_AutoML_1_20241012_204847                                         0.36154    0.491171  0.397652  0.158127\n",
       "GBM_4_AutoML_1_20241012_204847                                         0.367685   0.511455  0.408161  0.166595\n",
       "GBM_3_AutoML_1_20241012_204847                                         0.369245   0.497198  0.400512  0.16041\n",
       "StackedEnsemble_AllModels_1_AutoML_1_20241012_204847                   0.449799   0.565283  0.434096  0.188439\n",
       "GLM_1_AutoML_1_20241012_204847                                         0.553663   0.797695  0.529351  0.280213\n",
       "[9 rows x 5 columns]\n"
      ]
     },
     "execution_count": 23,
     "metadata": {},
     "output_type": "execute_result"
    }
   ],
   "source": [
    "lb = aml.leaderboard\n",
    "lb.head()"
   ]
  },
  {
   "cell_type": "markdown",
   "metadata": {},
   "source": [
    "Наилучшей оказалась модель случайного леса. Проверим ее на тестовой выборке."
   ]
  },
  {
   "cell_type": "code",
   "execution_count": 24,
   "metadata": {},
   "outputs": [
    {
     "name": "stdout",
     "output_type": "stream",
     "text": [
      "Parse progress: |████████████████████████████████████████████████████████████████| (done) 100%\n"
     ]
    }
   ],
   "source": [
    "test = h2o.H2OFrame(X_test)"
   ]
  },
  {
   "cell_type": "code",
   "execution_count": 25,
   "metadata": {},
   "outputs": [
    {
     "name": "stdout",
     "output_type": "stream",
     "text": [
      "drf prediction progress: |███████████████████████████████████████████████████████| (done) 100%\n"
     ]
    },
    {
     "name": "stderr",
     "output_type": "stream",
     "text": [
      "c:\\Users\\Lada\\VSCodeProjects\\OTUS\\.venv\\Lib\\site-packages\\h2o\\job.py:81: UserWarning: Test/Validation dataset column 'funder' has levels not trained on: [\"Abas Ka\", \"Abdala\", \"Abddwe\", \"Act\", \"Act Mara\", \"Action In A\", \"Afric\", \"Africa Amini Alama\", \"Afriican Reli\", \"Aic Kij\", ...179 not listed..., \"Villagers Mpi\", \"Villlage Contributi\", \"Wafidhi Wa Ziwa T\", \"Wamissionari Wa Kikatoriki\", \"Wanginyi Water\", \"Warento\", \"Wcst\", \"Wug And Ded\", \"Yasini\", \"Zao\"]\n",
      "  warnings.warn(w)\n",
      "c:\\Users\\Lada\\VSCodeProjects\\OTUS\\.venv\\Lib\\site-packages\\h2o\\job.py:81: UserWarning: Test/Validation dataset column 'installer' has levels not trained on: [\"ABD\", \"ABDALA\", \"ACT\", \"ACT MARA\", \"AIC KI\", \"AQUA WEL\", \"AQUA Wel\", \"AQUARMAN DRILLERS\", \"Active KMK\", \"Adrs\", ...202 not listed..., \"Zao\", \"care international\", \"desk and chair foundation\", \"germany\", \"local\", \"local technical tec\", \"lusajo\", \"maji mugumu\", \"mwita kichere\", \"nchagwa\"]\n",
      "  warnings.warn(w)\n",
      "c:\\Users\\Lada\\VSCodeProjects\\OTUS\\.venv\\Lib\\site-packages\\h2o\\job.py:81: UserWarning: Test/Validation dataset column 'wpt_name' has levels not trained on: [\"24\", \"Abass\", \"Abdallah Nassor Msabaha\", \"Abedi Taliwa\", \"Abel Mgaya\", \"Abel Nasari\", \"Abelrunyagu\", \"Abisalum Mose\", \"Ablahaman\", \"Abobo\", ...6638 not listed..., \"Zimanono\", \"Zimbili Kwa Mneka\", \"Zimbwe\", \"Zimbwini Secondary School\", \"Zinga 2\", \"Zizimi\", \"Zizini\", \"Zogoma\", \"Zoza\", \"Zuwena Kindo\"]\n",
      "  warnings.warn(w)\n",
      "c:\\Users\\Lada\\VSCodeProjects\\OTUS\\.venv\\Lib\\site-packages\\h2o\\job.py:81: UserWarning: Test/Validation dataset column 'subvillage' has levels not trained on: [\"20\", \"24\", \"24B\", \"61 A\", \"Abdu Jumbe\", \"Abene\", \"Agentina\", \"Ahakinyinya\", \"Aicho Kaskazini\", \"Ajida\", ...2035 not listed..., \"Yerusarem\", \"Yoliamwana\", \"Zagaza B\", \"Zalala\", \"Zamahe\", \"Zelui\", \"Zerembe\", \"Zirai\", \"Zizimi\", \"Zomba 'A'\"]\n",
      "  warnings.warn(w)\n",
      "c:\\Users\\Lada\\VSCodeProjects\\OTUS\\.venv\\Lib\\site-packages\\h2o\\job.py:81: UserWarning: Test/Validation dataset column 'ward' has levels not trained on: [\"Burungura\", \"Gidahababieg\", \"Kemambo\", \"Korongoni\", \"Magindu\", \"Mawenzi\", \"Mazimbu\", \"Nsemulwa\", \"Nyamtinga\", \"Simbay\", \"Sungwisi\", \"Tambukareli\", \"Thawi\", \"Ugala\", \"Uwanja wa Ndege\", \"Vikumbulu\"]\n",
      "  warnings.warn(w)\n",
      "c:\\Users\\Lada\\VSCodeProjects\\OTUS\\.venv\\Lib\\site-packages\\h2o\\job.py:81: UserWarning: Test/Validation dataset column 'scheme_name' has levels not trained on: [\"AIC kahunda\", \"Alpha crust\", \"BL Bingati B\", \"BL Bonifas Kingu\", \"BL Erasto Laizer\", \"BL Kandashi\", \"BL Kisau\", \"BL Lake sirwa\", \"BL Laktore\", \"BL Manyinguni\", ...135 not listed..., \"Toronto-estate water\", \"Tove- mtwango\", \"Ugalla water supply\", \"Upper River\", \"Usambara Mountai\", \"Waid\", \"Welela Shallow well\", \"Wisu\", \"World banks Water board\", \"manyunyu secondary\"]\n",
      "  warnings.warn(w)\n"
     ]
    },
    {
     "data": {
      "text/html": [
       "<table class='dataframe'>\n",
       "<thead>\n",
       "<tr><th>predict       </th><th style=\"text-align: right;\">  functional</th><th style=\"text-align: right;\">  functional needs repair</th><th style=\"text-align: right;\">  non functional</th></tr>\n",
       "</thead>\n",
       "<tbody>\n",
       "<tr><td>non functional</td><td style=\"text-align: right;\">    0       </td><td style=\"text-align: right;\">                0.0833333</td><td style=\"text-align: right;\">      0.916667  </td></tr>\n",
       "<tr><td>functional    </td><td style=\"text-align: right;\">    0.807993</td><td style=\"text-align: right;\">                0        </td><td style=\"text-align: right;\">      0.192007  </td></tr>\n",
       "<tr><td>functional    </td><td style=\"text-align: right;\">    0.862369</td><td style=\"text-align: right;\">                0.0940767</td><td style=\"text-align: right;\">      0.043554  </td></tr>\n",
       "<tr><td>non functional</td><td style=\"text-align: right;\">    0.336627</td><td style=\"text-align: right;\">                0.174543 </td><td style=\"text-align: right;\">      0.488829  </td></tr>\n",
       "<tr><td>functional    </td><td style=\"text-align: right;\">    0.979694</td><td style=\"text-align: right;\">                0.0153681</td><td style=\"text-align: right;\">      0.00493823</td></tr>\n",
       "<tr><td>non functional</td><td style=\"text-align: right;\">    0       </td><td style=\"text-align: right;\">                0        </td><td style=\"text-align: right;\">      1         </td></tr>\n",
       "<tr><td>functional    </td><td style=\"text-align: right;\">    0.768014</td><td style=\"text-align: right;\">                0.126027 </td><td style=\"text-align: right;\">      0.105959  </td></tr>\n",
       "<tr><td>non functional</td><td style=\"text-align: right;\">    0       </td><td style=\"text-align: right;\">                0        </td><td style=\"text-align: right;\">      1         </td></tr>\n",
       "<tr><td>non functional</td><td style=\"text-align: right;\">    0.047619</td><td style=\"text-align: right;\">                0        </td><td style=\"text-align: right;\">      0.952381  </td></tr>\n",
       "<tr><td>functional    </td><td style=\"text-align: right;\">    0.623517</td><td style=\"text-align: right;\">                0.188998 </td><td style=\"text-align: right;\">      0.187485  </td></tr>\n",
       "</tbody>\n",
       "</table><pre style='font-size: smaller; margin-bottom: 1em;'>[10 rows x 4 columns]</pre>"
      ],
      "text/plain": [
       "predict           functional    functional needs repair    non functional\n",
       "--------------  ------------  -------------------------  ----------------\n",
       "non functional      0                         0.0833333        0.916667\n",
       "functional          0.807993                  0                0.192007\n",
       "functional          0.862369                  0.0940767        0.043554\n",
       "non functional      0.336627                  0.174543         0.488829\n",
       "functional          0.979694                  0.0153681        0.00493823\n",
       "non functional      0                         0                1\n",
       "functional          0.768014                  0.126027         0.105959\n",
       "non functional      0                         0                1\n",
       "non functional      0.047619                  0                0.952381\n",
       "functional          0.623517                  0.188998         0.187485\n",
       "[10 rows x 4 columns]\n"
      ]
     },
     "execution_count": 25,
     "metadata": {},
     "output_type": "execute_result"
    }
   ],
   "source": [
    "pred = aml.predict(test)\n",
    "pred.head()"
   ]
  },
  {
   "cell_type": "markdown",
   "metadata": {},
   "source": [
    "В качестве метрики рассчитаем f1-меру с макроусреднением для несбалансированных данных."
   ]
  },
  {
   "cell_type": "code",
   "execution_count": 26,
   "metadata": {},
   "outputs": [
    {
     "name": "stderr",
     "output_type": "stream",
     "text": [
      "c:\\Users\\Lada\\VSCodeProjects\\OTUS\\.venv\\Lib\\site-packages\\h2o\\frame.py:1981: H2ODependencyWarning: Converting H2O frame to pandas dataframe using single-thread.  For faster conversion using multi-thread, install polars and pyarrow and use it as pandas_df = h2o_df.as_data_frame(use_multi_thread=True)\n",
      "\n",
      "  warnings.warn(\"Converting H2O frame to pandas dataframe using single-thread.  For faster conversion using\"\n"
     ]
    },
    {
     "data": {
      "text/plain": [
       "array([0.84016602, 0.39215686, 0.79025399])"
      ]
     },
     "execution_count": 26,
     "metadata": {},
     "output_type": "execute_result"
    }
   ],
   "source": [
    "f1_h2o = f1_score(y_test, pred['predict'].as_data_frame(), average=None)\n",
    "f1_h2o"
   ]
  },
  {
   "cell_type": "markdown",
   "metadata": {},
   "source": [
    "## 3.2 CatBoost"
   ]
  },
  {
   "cell_type": "markdown",
   "metadata": {},
   "source": [
    "### 3.2.1 Base"
   ]
  },
  {
   "cell_type": "markdown",
   "metadata": {},
   "source": [
    "Обучим модель CatBoostClassifier c минимальными настройками гиперпараметров, не учитывая дисбаланс классов."
   ]
  },
  {
   "cell_type": "code",
   "execution_count": 27,
   "metadata": {},
   "outputs": [],
   "source": [
    "# параметры для обучения\n",
    "est_params = {\n",
    "  'max_depth': 5,\n",
    "  'n_estimators': 200,\n",
    "  'learning_rate': 0.01,\n",
    "  'random_state': 42,\n",
    "  'verbose': 200,\n",
    "}\n",
    "\n",
    "ctb_model = CatBoostClassifier(**est_params)"
   ]
  },
  {
   "cell_type": "code",
   "execution_count": 28,
   "metadata": {},
   "outputs": [],
   "source": [
    "X_train = X_train.drop(columns=['date_recorded'])\n",
    "X_test = X_test.drop(columns=['date_recorded'])"
   ]
  },
  {
   "cell_type": "code",
   "execution_count": 29,
   "metadata": {},
   "outputs": [],
   "source": [
    "X_train = X_train.astype('float', errors='ignore')\n",
    "X_test = X_test.astype('float', errors='ignore')"
   ]
  },
  {
   "cell_type": "code",
   "execution_count": 30,
   "metadata": {},
   "outputs": [],
   "source": [
    "X_train[['region_code', 'district_code']] = X_train[['region_code', 'district_code']].astype('int')\n",
    "X_test[['region_code', 'district_code']] = X_test[['region_code', 'district_code']].astype('int')"
   ]
  },
  {
   "cell_type": "code",
   "execution_count": 31,
   "metadata": {},
   "outputs": [],
   "source": [
    "cat_col = ['funder', 'installer', 'wpt_name', 'basin', 'subvillage', 'region',\n",
    "       'region_code', 'district_code', 'lga', 'ward', 'recorded_by', 'scheme_management', 'scheme_name',\n",
    "       'extraction_type',\n",
    "       'extraction_type_group', 'extraction_type_class', 'management',\n",
    "       'management_group', 'payment', 'payment_type', 'water_quality',\n",
    "       'quality_group', 'quantity', 'quantity_group', 'source', 'source_type',\n",
    "       'source_class', 'waterpoint_type', 'waterpoint_type_group']"
   ]
  },
  {
   "cell_type": "code",
   "execution_count": 32,
   "metadata": {},
   "outputs": [
    {
     "data": {
      "application/vnd.jupyter.widget-view+json": {
       "model_id": "bc5f80283d7846a59f87559e6b68e3cf",
       "version_major": 2,
       "version_minor": 0
      },
      "text/plain": [
       "MetricVisualizer(layout=Layout(align_self='stretch', height='500px'))"
      ]
     },
     "metadata": {},
     "output_type": "display_data"
    },
    {
     "name": "stdout",
     "output_type": "stream",
     "text": [
      "0:\tlearn: 1.0905811\ttotal: 441ms\tremaining: 1m 27s\n",
      "199:\tlearn: 0.6241093\ttotal: 56.4s\tremaining: 0us\n"
     ]
    },
    {
     "data": {
      "text/plain": [
       "<catboost.core.CatBoostClassifier at 0x158356a4ce0>"
      ]
     },
     "execution_count": 32,
     "metadata": {},
     "output_type": "execute_result"
    }
   ],
   "source": [
    "ctb_model.fit(X_train,\n",
    "              y_train,\n",
    "              cat_features=cat_col,\n",
    "              plot=True)"
   ]
  },
  {
   "cell_type": "markdown",
   "metadata": {},
   "source": [
    "Протестируем модель на тестовых данных."
   ]
  },
  {
   "cell_type": "code",
   "execution_count": 33,
   "metadata": {},
   "outputs": [],
   "source": [
    "pred = ctb_model.predict(X_test)"
   ]
  },
  {
   "cell_type": "code",
   "execution_count": 34,
   "metadata": {},
   "outputs": [
    {
     "data": {
      "text/plain": [
       "array([0.83001172, 0.0886918 , 0.76773962])"
      ]
     },
     "execution_count": 34,
     "metadata": {},
     "output_type": "execute_result"
    }
   ],
   "source": [
    "f1_cb_base = f1_score(y_test, pred, average=None)\n",
    "f1_cb_base"
   ]
  },
  {
   "cell_type": "markdown",
   "metadata": {},
   "source": [
    "### 3.2.2 Balanced"
   ]
  },
  {
   "cell_type": "markdown",
   "metadata": {},
   "source": [
    "Обучим модель CatBoostClassifier c учетом дисбаланса классов."
   ]
  },
  {
   "cell_type": "code",
   "execution_count": 35,
   "metadata": {},
   "outputs": [
    {
     "data": {
      "text/plain": [
       "array(['functional', 'non functional', 'functional needs repair'],\n",
       "      dtype=object)"
      ]
     },
     "execution_count": 35,
     "metadata": {},
     "output_type": "execute_result"
    }
   ],
   "source": [
    "y_train['status_group'].unique()"
   ]
  },
  {
   "cell_type": "code",
   "execution_count": 36,
   "metadata": {},
   "outputs": [],
   "source": [
    "classes = y_train['status_group'].unique()\n",
    "weights = compute_class_weight(class_weight='balanced', classes=classes, y=y_train['status_group'])\n",
    "class_weights = dict(zip(classes, weights))"
   ]
  },
  {
   "cell_type": "code",
   "execution_count": 37,
   "metadata": {},
   "outputs": [],
   "source": [
    "# параметры для обучения\n",
    "est_params = {\n",
    "  'max_depth': 5,\n",
    "  'n_estimators': 200,\n",
    "  'learning_rate': 0.01,\n",
    "  'random_state': 42,\n",
    "  'verbose': 200,\n",
    "  'class_weights': class_weights\n",
    "}\n",
    "\n",
    "ctb_model = CatBoostClassifier(**est_params)"
   ]
  },
  {
   "cell_type": "code",
   "execution_count": 38,
   "metadata": {},
   "outputs": [
    {
     "data": {
      "application/vnd.jupyter.widget-view+json": {
       "model_id": "f96255d5454a4f5b92c3508dafa441a4",
       "version_major": 2,
       "version_minor": 0
      },
      "text/plain": [
       "MetricVisualizer(layout=Layout(align_self='stretch', height='500px'))"
      ]
     },
     "metadata": {},
     "output_type": "display_data"
    },
    {
     "name": "stdout",
     "output_type": "stream",
     "text": [
      "0:\tlearn: 1.0933449\ttotal: 284ms\tremaining: 56.5s\n",
      "199:\tlearn: 0.7614288\ttotal: 56.7s\tremaining: 0us\n"
     ]
    },
    {
     "data": {
      "text/plain": [
       "<catboost.core.CatBoostClassifier at 0x15835685fd0>"
      ]
     },
     "execution_count": 38,
     "metadata": {},
     "output_type": "execute_result"
    }
   ],
   "source": [
    "ctb_model.fit(X_train,\n",
    "              y_train,\n",
    "              cat_features=cat_col,\n",
    "              plot=True)"
   ]
  },
  {
   "cell_type": "code",
   "execution_count": 39,
   "metadata": {},
   "outputs": [],
   "source": [
    "pred = ctb_model.predict(X_test)"
   ]
  },
  {
   "cell_type": "code",
   "execution_count": 40,
   "metadata": {},
   "outputs": [
    {
     "data": {
      "text/plain": [
       "array([0.7640224 , 0.36396075, 0.75930756])"
      ]
     },
     "execution_count": 40,
     "metadata": {},
     "output_type": "execute_result"
    }
   ],
   "source": [
    "f1_cb_balanced = f1_score(y_test, pred, average=None)\n",
    "f1_cb_balanced"
   ]
  },
  {
   "cell_type": "markdown",
   "metadata": {},
   "source": [
    "### 3.2.3 С автоматическим отбором признаков"
   ]
  },
  {
   "cell_type": "markdown",
   "metadata": {},
   "source": [
    "Воспользуемся методом автоматического отбора признаков для удаления незначащих признаков и обучим модель CatBoostClassifier."
   ]
  },
  {
   "cell_type": "code",
   "execution_count": 41,
   "metadata": {},
   "outputs": [],
   "source": [
    "features = X_train.drop(columns=cat_col).columns\n",
    "MI = mutual_info_classif(X_train.drop(columns=cat_col), y_train['status_group'], random_state=42)\n",
    "MI_df = pd.Series(MI, index=features)"
   ]
  },
  {
   "cell_type": "code",
   "execution_count": 42,
   "metadata": {},
   "outputs": [
    {
     "data": {
      "image/png": "[encoded data removed]",
      "text/plain": [
       "<Figure size 1500x700 with 1 Axes>"
      ]
     },
     "metadata": {},
     "output_type": "display_data"
    }
   ],
   "source": [
    "MI_df.sort_values(ascending=False).plot.bar(figsize=(15, 7))\n",
    "plt.title(\"Feature Importance using Mutual Information\")\n",
    "plt.show()"
   ]
  },
  {
   "cell_type": "markdown",
   "metadata": {},
   "source": [
    "Наименьший прирост информации дают столбцы `'permit'` и `'num_private'`. Удалим их из признаков."
   ]
  },
  {
   "cell_type": "code",
   "execution_count": 43,
   "metadata": {},
   "outputs": [],
   "source": [
    "# параметры для обучения\n",
    "est_params = {\n",
    "  'max_depth': 5,\n",
    "  'n_estimators': 200,\n",
    "  'learning_rate': 0.01,\n",
    "  'random_state': 42,\n",
    "  'verbose': 200,\n",
    "  'class_weights': class_weights\n",
    "}\n",
    "\n",
    "ctb_model = CatBoostClassifier(**est_params)"
   ]
  },
  {
   "cell_type": "code",
   "execution_count": 44,
   "metadata": {},
   "outputs": [
    {
     "data": {
      "application/vnd.jupyter.widget-view+json": {
       "model_id": "240b460810094ca7a1732ddd27c44115",
       "version_major": 2,
       "version_minor": 0
      },
      "text/plain": [
       "MetricVisualizer(layout=Layout(align_self='stretch', height='500px'))"
      ]
     },
     "metadata": {},
     "output_type": "display_data"
    },
    {
     "name": "stdout",
     "output_type": "stream",
     "text": [
      "0:\tlearn: 1.0937000\ttotal: 293ms\tremaining: 58.4s\n",
      "199:\tlearn: 0.7623612\ttotal: 1m\tremaining: 0us\n"
     ]
    },
    {
     "data": {
      "text/plain": [
       "<catboost.core.CatBoostClassifier at 0x158399145c0>"
      ]
     },
     "execution_count": 44,
     "metadata": {},
     "output_type": "execute_result"
    }
   ],
   "source": [
    "ctb_model.fit(X_train.drop(columns=['permit', 'num_private']),\n",
    "              y_train,\n",
    "              cat_features=cat_col,\n",
    "              plot=True)"
   ]
  },
  {
   "cell_type": "code",
   "execution_count": 45,
   "metadata": {},
   "outputs": [],
   "source": [
    "pred = ctb_model.predict(X_test.drop(columns=['permit', 'num_private']))"
   ]
  },
  {
   "cell_type": "code",
   "execution_count": 46,
   "metadata": {},
   "outputs": [
    {
     "data": {
      "text/plain": [
       "array([0.76193667, 0.36746809, 0.75973027])"
      ]
     },
     "execution_count": 46,
     "metadata": {},
     "output_type": "execute_result"
    }
   ],
   "source": [
    "f1_cb_mi = f1_score(y_test, pred, average=None)\n",
    "f1_cb_mi"
   ]
  },
  {
   "cell_type": "markdown",
   "metadata": {},
   "source": [
    "# 4 Выводы"
   ]
  },
  {
   "cell_type": "markdown",
   "metadata": {},
   "source": [
    "Решалась задача многоклассовой классификации. \n",
    "\n",
    "Была выполнена предобработка данных - пропуски в категориальных признаках были зааменены на `'Other'`, в двоичных - на моду. Был обнаружен сильный дисбаланс классов.\n",
    "\n",
    "Для решения задачи были обучены несколько алгоритмов:\n",
    "1. Поиск наилучшего с помощью H2O.ai\n",
    "2. CatBoostClassifier без учета дисбаланса классов\n",
    "3. CatBoostClassifier с учетом дисбаланса классов\n",
    "4. CatBoostClassifier с предварительным автоматическим отбором признаков методом MI\n",
    "\n",
    "В результате работы H2O.ai в качестве наилучшей была найдена модель случайного леса Distributed Random Forest. Алгоритм был протестирован на тестовых данных. В качестве метрики была выбрана f1-мера с макроусреднением. Результат работы алгоритма на тестовых данных:"
   ]
  },
  {
   "cell_type": "code",
   "execution_count": 51,
   "metadata": {},
   "outputs": [
    {
     "name": "stdout",
     "output_type": "stream",
     "text": [
      "[0.84016602 0.39215686 0.79025399]\n",
      "0.6741922933286952\n"
     ]
    }
   ],
   "source": [
    "print(f1_h2o)\n",
    "print(np.mean(f1_h2o))"
   ]
  },
  {
   "cell_type": "markdown",
   "metadata": {},
   "source": [
    "Метрики качества алгоритма CatBoostClassifier на тестовых данных без учета дисбаланса классов:"
   ]
  },
  {
   "cell_type": "code",
   "execution_count": 52,
   "metadata": {},
   "outputs": [
    {
     "name": "stdout",
     "output_type": "stream",
     "text": [
      "[0.83001172 0.0886918  0.76773962]\n",
      "0.5621477129396566\n"
     ]
    }
   ],
   "source": [
    "print(f1_cb_base)\n",
    "print(np.mean(f1_cb_base))"
   ]
  },
  {
   "cell_type": "markdown",
   "metadata": {},
   "source": [
    "Метрики качества алгоритма CatBoostClassifier на тестовых данных с учетом дисбаланса классов:"
   ]
  },
  {
   "cell_type": "code",
   "execution_count": 53,
   "metadata": {},
   "outputs": [
    {
     "name": "stdout",
     "output_type": "stream",
     "text": [
      "[0.7640224  0.36396075 0.75930756]\n",
      "0.6290969054525917\n"
     ]
    }
   ],
   "source": [
    "print(f1_cb_balanced)\n",
    "print(np.mean(f1_cb_balanced))"
   ]
  },
  {
   "cell_type": "markdown",
   "metadata": {},
   "source": [
    "Метрики качества алгоритма CatBoostClassifier на тестовых данных с предварительным автоматическим отбором признаков методом MI с учетом дисбаланса классов:"
   ]
  },
  {
   "cell_type": "code",
   "execution_count": 54,
   "metadata": {},
   "outputs": [
    {
     "name": "stdout",
     "output_type": "stream",
     "text": [
      "[0.76193667 0.36746809 0.75973027]\n",
      "0.6297116791690209\n"
     ]
    }
   ],
   "source": [
    "print(f1_cb_mi)\n",
    "print(np.mean(f1_cb_mi))"
   ]
  },
  {
   "cell_type": "markdown",
   "metadata": {},
   "source": [
    "Наилучшее качество получено алгоритмом, полученным с помощью AutoML-фреймворка H2O. Также небольшой прирост качества получен для модели CatBoostClassifier при предварительном автоматическом отборе признаков методом MI."
   ]
  }
 ],
 "metadata": {
  "kernelspec": {
   "display_name": ".venv",
   "language": "python",
   "name": "python3"
  },
  "language_info": {
   "codemirror_mode": {
    "name": "ipython",
    "version": 3
   },
   "file_extension": ".py",
   "mimetype": "text/x-python",
   "name": "python",
   "nbconvert_exporter": "python",
   "pygments_lexer": "ipython3",
   "version": "3.12.3"
  }
 },
 "nbformat": 4,
 "nbformat_minor": 2
}
